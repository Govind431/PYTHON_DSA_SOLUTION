{
 "cells": [
  {
   "cell_type": "code",
   "execution_count": 13,
   "id": "da82663f-43ef-413e-8bd3-396734d9ee37",
   "metadata": {},
   "outputs": [
    {
     "name": "stdout",
     "output_type": "stream",
     "text": [
      "1505,1540,1575,1610,1645,1680,1715,1750,1785,1820,1855,1890,1925,1960,1995,2030,2065,2100,2135,2170,2205,2240,2275,2310,2345,2380,2415,2450,2485,2520,2555,2590,2625,2660,2695\n"
     ]
    }
   ],
   "source": [
    "#Q1. Write a Python program to find those numbers which are divisible by 7 and\n",
    "#multiples of 5, between 1500 and 2700 (both included)\n",
    "#Output:\n",
    "#1505,1540,1575,1610,1645,1680,1715,1750,1785,1820,1855,1890,1925,1960,1\n",
    "#995,2030,2065,2100,2135,2170,2205,2240,2275,2310,2345,2380,2415,2450,24\n",
    "#85,2520,2555,2590,2625,2660,2695\n",
    "\n",
    "list3=[]\n",
    "for i in range (1500,2701):\n",
    "    if (i%7==0) and (i%5==0):\n",
    "        list3.append(str(i))\n",
    "print(','.join(list3))\n",
    "\n",
    "\n",
    "\n",
    "\n"
   ]
  },
  {
   "cell_type": "code",
   "execution_count": 15,
   "id": "d6a8b5f4-afd1-4da3-baf7-9ed07da178dc",
   "metadata": {},
   "outputs": [
    {
     "name": "stdin",
     "output_type": "stream",
     "text": [
      "input a word to reverse shailja\n"
     ]
    },
    {
     "name": "stdout",
     "output_type": "stream",
     "text": [
      "reverse string is --- ajliahs\n"
     ]
    }
   ],
   "source": [
    "#Q2. Write a Python program that accepts a word from the user and reverses it.\n",
    "#INPUT: Input a word to reverse: Shailja\n",
    "#OUTPUT: ajliahS\n",
    "\n",
    "string_input= input(\"input a word to reverse\")\n",
    "\n",
    "new_reversed_string= \"\"\n",
    "\n",
    "for i in string_input:\n",
    "    new_reversed_string=i+new_reversed_string\n",
    "\n",
    "print(f\"reverse string is --- {new_reversed_string}\")\n",
    "    \n",
    "\n",
    "\n",
    "\n",
    "\n",
    "\n"
   ]
  },
  {
   "cell_type": "code",
   "execution_count": 23,
   "id": "5fb95d62-2fb4-47de-bbc1-cfe06842a85a",
   "metadata": {},
   "outputs": [
    {
     "name": "stdin",
     "output_type": "stream",
     "text": [
      "Input a word to reverse:  rovi\n"
     ]
    },
    {
     "name": "stdout",
     "output_type": "stream",
     "text": [
      "ivor\n",
      "\n"
     ]
    }
   ],
   "source": [
    "## alternate way\n",
    "word = input(\"Input a word to reverse: \")\n",
    "for char in range(len(word) - 1, -1, -1):\n",
    "    print(word[char],end=\"\")\n",
    "print(\"\\n\")  ### this print is not necessary used to print just only new line\n"
   ]
  },
  {
   "cell_type": "code",
   "execution_count": 31,
   "id": "122aa2ec-fa59-412c-b90a-52765a0e0a61",
   "metadata": {},
   "outputs": [
    {
     "name": "stdout",
     "output_type": "stream",
     "text": [
      "0 1 2 4 5 \n",
      "\n"
     ]
    }
   ],
   "source": [
    "#Q3. Write a Python program that prints all the numbers from 0 to 6 except 3 and\n",
    "#6. Note : Use 'continue' statement.\n",
    "#Expected Output : 0 1 2 4 5\n",
    "\n",
    "\n",
    "for i in range(0,6):\n",
    "    if i==3 or i==6:\n",
    "        \n",
    "        continue\n",
    "    print(i,end=\" \")   \n",
    "print(\"\\n\")"
   ]
  },
  {
   "cell_type": "code",
   "execution_count": 32,
   "id": "c29ee9d2-8a91-474e-807c-03370b829516",
   "metadata": {},
   "outputs": [
    {
     "name": "stdout",
     "output_type": "stream",
     "text": [
      " Type of 1452 is <class 'int'>\n",
      " Type of 11.23 is <class 'float'>\n",
      " Type of (1+2j) is <class 'complex'>\n",
      " Type of True is <class 'bool'>\n",
      " Type of w3resource is <class 'str'>\n",
      " Type of (0, -1) is <class 'tuple'>\n",
      " Type of [5, 12] is <class 'list'>\n",
      " Type of {'class': 'V', 'section': 'A'} is <class 'dict'>\n"
     ]
    }
   ],
   "source": [
    "#Q4. Write a Python program that prints each item and its corresponding type from\n",
    "#the following list.\n",
    "#INPUT = [1452, 11.23, 1+2j, True, 'w3resource', (0, -1), [5, 12], {\"class\":'V',\n",
    "#\"section\":'A'}]\n",
    "#OUTPUT:\n",
    "#Type of 1452 is <class 'int'>\n",
    "#Type of 11.23 is <class 'float'>\n",
    "#Type of (1+2j) is <class 'complex'>\n",
    "#Type of True is <class 'bool'>\n",
    "#Type of w3resource is <class 'str'>\n",
    "#Type of (0, -1) is <class 'tuple'>\n",
    "#Type of [5, 12] is <class 'list'>\n",
    "#Type of {'class': 'V', 'section': 'A'} is < class 'dict'>\n",
    "\n",
    "INPUT = [1452, 11.23, 1+2j, True, 'w3resource', (0, -1), [5, 12], {\"class\":'V',\n",
    "\"section\":'A'}]\n",
    "\n",
    "for i in INPUT:\n",
    "    print(f\" Type of {i} is {type(i)}\")"
   ]
  },
  {
   "cell_type": "code",
   "execution_count": 38,
   "id": "bdcbe6f1-8a33-4b45-a2e5-ebb23412e973",
   "metadata": {},
   "outputs": [
    {
     "name": "stdin",
     "output_type": "stream",
     "text": [
      "Input your password:  Rohit\n"
     ]
    },
    {
     "name": "stdout",
     "output_type": "stream",
     "text": [
      "Not a Valid Password\n"
     ]
    }
   ],
   "source": [
    "#Q5. Write a Python program to check the validity of passwords input by users.\n",
    "#Validation :\n",
    "#At least 1 letter between [a-z] and 1 letter between [A-Z].\n",
    "#At least 1 number between [0-9].\n",
    "#At least 1 character from [$#@].\n",
    "#Minimum length 6 characters.\n",
    "#Maximum length 16 characters.\n",
    "#INPUT: Input your password:S3r@100a\n",
    "#OUTPUT:Valid Password\n",
    "import re\n",
    "\n",
    "p = input(\"Input your password: \")\n",
    "x = True\n",
    "\n",
    "while x:\n",
    "    if len(p) < 6 or len(p) > 12:\n",
    "        break\n",
    "    elif not re.search(\"[a-z]\", p):\n",
    "        break\n",
    "    elif not re.search(\"[0-9]\", p):\n",
    "        break\n",
    "    elif not re.search(\"[A-Z]\", p):\n",
    "        break\n",
    "    elif not re.search(\"[$#@]\", p):\n",
    "        break\n",
    "    elif re.search(\"\\s\", p):\n",
    "        print(\"Password cannot contain whitespace\")\n",
    "        break\n",
    "    else:\n",
    "        print(\"Valid Password\")\n",
    "        x = False\n",
    "        break\n",
    "\n",
    "if x:\n",
    "    print(\"Not a Valid Password\")\n",
    "\n"
   ]
  },
  {
   "cell_type": "code",
   "execution_count": 37,
   "id": "02dd584f-f19d-499f-8804-2a17acdf7c22",
   "metadata": {},
   "outputs": [
    {
     "name": "stdout",
     "output_type": "stream",
     "text": [
      "1 1 2 3 5 8 13 21 34 "
     ]
    }
   ],
   "source": [
    "#Q6. Write a Python program to get the Fibonacci series between 0 and 50.\n",
    "#Note : The Fibonacci Sequence is the series of numbers :\n",
    "#0, 1, 1, 2, 3, 5, 8, 13, 21, ....\n",
    "#Every next number is found by adding up the two numbers before it.\n",
    "#Expected Output : 1 1 2 3 5 8 13 21 34\n",
    "x,y=0,1\n",
    "while(y<50):\n",
    "    print(y,end=\" \")\n",
    "    x,y=y,x+y\n",
    "    \n",
    "    "
   ]
  },
  {
   "cell_type": "code",
   "execution_count": null,
   "id": "4d290bac-b6eb-45c3-99d8-9d1bf297d94f",
   "metadata": {},
   "outputs": [],
   "source": [
    "#Q7. Write a Python program to check whether an alphabet is a vowel or\n",
    "#consonant.\n",
    "#OUTPUT:\n",
    "#Input a letter of the alphabet: k\n",
    "#k is a consonant.\n",
    "q=input(\"Input a Letter of the alphabet\")\n",
    "\n",
    "if q in ('a','e','i','o','u'):\n",
    "    print('%s is a vowel.'%q)\n",
    "\n",
    "elif q=='y':\n",
    "    print(f\"some times y can work as a vowel and sometimes as a consonant\")\n",
    "\n",
    "else:\n",
    "    print('%s is a consonant.'%q)\n",
    "\n",
    "\n",
    "\n",
    "\n",
    "\n"
   ]
  },
  {
   "cell_type": "code",
   "execution_count": 16,
   "id": "91234b6b-2dd5-4c1c-85b2-9bef125b432a",
   "metadata": {},
   "outputs": [
    {
     "name": "stdin",
     "output_type": "stream",
     "text": [
      "enter the new_string Grow Data Skills \n",
      "enter the old_char G\n",
      "enter the new_char H\n"
     ]
    },
    {
     "name": "stdout",
     "output_type": "stream",
     "text": [
      "replaced_sting Hrow Data Skills \n"
     ]
    }
   ],
   "source": [
    "#Q8. Write a Python program that takes a string as input and replaces all\n",
    "#occurrences of a given character with another character.\n",
    "#INPUT: Enter a string: We study at GrowDataSkills\n",
    "#Enter the character to replace: G\n",
    "#Enter the replacement character: H\n",
    "#OUTPUT: Replaced string: We study at HrowDataSkills\n",
    "def replace_char(new_string,old_char,new_char):\n",
    "    \n",
    "    replaced_string=\"\"\n",
    "    for i in new_string:\n",
    "        if i==old_char:\n",
    "            replaced_string+=new_char\n",
    "        else:\n",
    "             replaced_string+=i\n",
    "\n",
    "    return replaced_string\n",
    "\n",
    "p=input(\"enter the new_string\")\n",
    "q=input(\"enter the old_char\")\n",
    "r=input(\"enter the new_char\")\n",
    "\n",
    "print(\"replaced_sting\",replace_char(p,q,r))\n",
    "    \n",
    "    "
   ]
  },
  {
   "cell_type": "code",
   "execution_count": 30,
   "id": "c0ccb5f9-ddee-430d-aeaf-5ecbc3175859",
   "metadata": {},
   "outputs": [
    {
     "name": "stdout",
     "output_type": "stream",
     "text": [
      "output [10, 20, 30, 40, 50, 60, 70, 80]\n"
     ]
    }
   ],
   "source": [
    "#Q9: Write a Python function to reverse a list at a specific location(\n",
    "#INPUT: [10,20,30,40,50,60,70,80]\n",
    "#start_pos = 2\n",
    "#end_pos = 4\n",
    "#OUTPUT: Reverse elements of the said list between index position 2 and 4\n",
    "#[10, 20, 50, 40, 30, 60, 70, 80]\n",
    "\n",
    "def reverse_str(input1,start_pos,end_pos):\n",
    "    input1[start_pos:end_pos+1]=input1[start_pos:end_pos+1][::-1]\n",
    "\n",
    "    return input\n",
    "\n",
    "input1= [10,20,30,40,50,60,70,80]\n",
    "start_pos=2\n",
    "end_pos=4\n",
    "print(\"output\", reverse_str(input,start_pos,end_pos))"
   ]
  },
  {
   "cell_type": "code",
   "execution_count": 31,
   "id": "8db61f5f-077f-4c84-b5a5-20f8a5c55613",
   "metadata": {},
   "outputs": [
    {
     "data": {
      "text/plain": [
       "[50, 40, 30]"
      ]
     },
     "execution_count": 31,
     "metadata": {},
     "output_type": "execute_result"
    }
   ],
   "source": [
    "#important confusion\n",
    "input1= [10,20,30,40,50,60,70,80]\n",
    "\n",
    "l1=input1[start_pos:end_pos+1]\n",
    "l2=l1[::-1]\n",
    "l2\n"
   ]
  },
  {
   "cell_type": "code",
   "execution_count": 21,
   "id": "bb7dd151-e81a-49f0-b1da-2f5ef784dd5e",
   "metadata": {},
   "outputs": [
    {
     "data": {
      "text/plain": [
       "[10, 20, 50, 40, 30, 60, 70, 80]"
      ]
     },
     "execution_count": 21,
     "metadata": {},
     "output_type": "execute_result"
    }
   ],
   "source": [
    "#important confusion\n",
    "input_list = [10, 20, 30, 40, 50, 60, 70, 80]\n",
    "input_list[start_pos:end_pos+1] = input_list[start_pos:end_pos+1][::-1]\n",
    "input_list"
   ]
  },
  {
   "cell_type": "code",
   "execution_count": 34,
   "id": "608a9f46-c48a-407b-9ca1-534a7d1d20c4",
   "metadata": {},
   "outputs": [
    {
     "name": "stdout",
     "output_type": "stream",
     "text": [
      "input string is palindrome \n"
     ]
    }
   ],
   "source": [
    "#Q10. Write a Python program that takes a string as input and checks if it is a\n",
    "#palindrome (reads the same forwards and backward).\n",
    "#INPUT: Enter a string: GrowDataSkills\n",
    "#OUTPUT: It is not a palindrome.\n",
    "\n",
    "input_str='abba'\n",
    "\n",
    "if input_str==input_str[::-1]:\n",
    "    print(f\"input string is palindrome \")\n",
    "\n",
    "else:\n",
    "    print(f\"input string is not palindrome\")\n",
    "\n"
   ]
  },
  {
   "cell_type": "code",
   "execution_count": 42,
   "id": "c6f086cd-5259-4b6b-a2b7-48a74ff31606",
   "metadata": {},
   "outputs": [
    {
     "name": "stdout",
     "output_type": "stream",
     "text": [
      "We Are Data Analyst "
     ]
    }
   ],
   "source": [
    "#Q11. Write a Python program that takes a sentence as input and capitalizes the\n",
    "#first letter of each word.\n",
    "#INPUT: Enter a sentence: we are growdataskills\n",
    "#OUTPUT: Capitalized sentence: We Are Growdataskills\n",
    "input_sentence='we are data analyst'\n",
    "\n",
    "f=input_sentence.split()\n",
    "for i in f:\n",
    "    g= i.capitalize()\n",
    "    print(g,end=\" \")\n",
    "\n",
    "\n",
    "\n",
    "\n"
   ]
  },
  {
   "cell_type": "code",
   "execution_count": 47,
   "id": "96554a09-f59b-424d-b7ed-54377091617a",
   "metadata": {},
   "outputs": [
    {
     "name": "stdout",
     "output_type": "stream",
     "text": [
      "We Are Data Analyst\n"
     ]
    }
   ],
   "source": [
    "#Altrernate way\n",
    "input_sentence='we are data analyst'\n",
    "\n",
    "f=input_sentence.split()\n",
    "g=[]\n",
    "for i in f:\n",
    "    h=i.capitalize()\n",
    "    \n",
    "    g.append(h)\n",
    "\n",
    "print(\" \".join(g))"
   ]
  },
  {
   "cell_type": "code",
   "execution_count": 53,
   "id": "4afe177c-86c5-4727-aead-ec47095ce125",
   "metadata": {},
   "outputs": [
    {
     "name": "stdout",
     "output_type": "stream",
     "text": [
      "factorial of a number 4 is eqaul to = 24\n"
     ]
    }
   ],
   "source": [
    "#Q. Write a Python function to calculate the factorial of a number (a non-negative\n",
    "#integer). The function accepts the number as an argument.\n",
    "#INPUT: Input a number to compute the factorial : 4\n",
    "#OUTPUT: 24\n",
    "\n",
    "def fact(n):\n",
    "    if n==0:\n",
    "        return 1\n",
    "    else:\n",
    "        return n*fact(n-1)\n",
    "\n",
    "print(f\"factorial of a number {4} is eqaul to = {fact(4)}\")\n"
   ]
  },
  {
   "cell_type": "code",
   "execution_count": 58,
   "id": "ace8f9fa-f267-4fd4-900b-9ece1b63294b",
   "metadata": {},
   "outputs": [
    {
     "name": "stdout",
     "output_type": "stream",
     "text": [
      "{'upper_case': 3, 'lower_case': 13}\n"
     ]
    }
   ],
   "source": [
    "#Q. Write a Python function that accepts a string and counts the number of upper\n",
    "#and lower case letters.\n",
    "#INPUT: The quick Brow Fox'\n",
    "#OUTPUT:\n",
    "#No. of Upper case characters : 3\n",
    "#No. of Lower case Characters : 13\n",
    "input1=\"The quick Brown Fox\"\n",
    "dict5={\"upper_case\":0,\"lower_case\":0}\n",
    "for i in input1:\n",
    "    if i.isupper():\n",
    "        dict5['upper_case']+=1\n",
    "\n",
    "    elif i.islower():\n",
    "         dict5['lower_case']+=1\n",
    "\n",
    "\n",
    "    else:\n",
    "        pass\n",
    "print(dict5)"
   ]
  },
  {
   "cell_type": "code",
   "execution_count": 61,
   "id": "15647701-9480-4b72-9221-2947331a9f6f",
   "metadata": {},
   "outputs": [
    {
     "name": "stdout",
     "output_type": "stream",
     "text": [
      "5 falls in the range of (3,9)\n"
     ]
    }
   ],
   "source": [
    "#Q. Write a Python function to check whether a number falls within a given\n",
    "#range(3,9)\n",
    "#INPUT:5\n",
    "#OUTPUT: 5 is in the range\n",
    "\n",
    "for i in range(3,9):\n",
    "    if i==5:\n",
    "        print(f\"5 falls in the range of (3,9)\")\n",
    "    else:\n",
    "        pass"
   ]
  },
  {
   "cell_type": "code",
   "execution_count": 64,
   "id": "1762de3e-49f9-41a1-ae7a-9915de5efd86",
   "metadata": {},
   "outputs": [
    {
     "name": "stdout",
     "output_type": "stream",
     "text": [
      "5 falls in the range\n"
     ]
    }
   ],
   "source": [
    "### alternate way\n",
    "if 5 in range(3,9):\n",
    "    print(\"%s falls in the range\"%5)\n",
    "\n",
    "else:\n",
    "    print('the number is outside the range')\n",
    "\n",
    "\n"
   ]
  },
  {
   "cell_type": "code",
   "execution_count": 7,
   "id": "5447dcb3-f2ae-495e-a6ae-3bb13153db5b",
   "metadata": {},
   "outputs": [
    {
     "name": "stdin",
     "output_type": "stream",
     "text": [
      "please enter number to check 2000\n"
     ]
    },
    {
     "name": "stdout",
     "output_type": "stream",
     "text": [
      "this is not a Prime Number\n"
     ]
    }
   ],
   "source": [
    "#Q. Write a Python function that takes an integer as input and checks if it is a\n",
    "#prime number.\n",
    "#INPUT: Enter an integer: 13\n",
    "#OUTPUT: It is a prime number.\n",
    "#A prime number is a natural number greater than 1 that has no positive divisors other than 1 and itself.\n",
    "#Examples of Prime Numbers: Some of the first few prime numbers are 2(smallest prime number), 3, 5, 7, 11, 13, 17, 19, 23, and 29.\n",
    "\n",
    "\n",
    "def is_prime(n):\n",
    "    if n<=1:\n",
    "        return False\n",
    "\n",
    "    for i in range(2,n):\n",
    "        if n%i==0:\n",
    "            return False\n",
    "    return True\n",
    "n=int(input(\"please enter number to check\"))\n",
    "\n",
    "if is_prime(n):\n",
    "    print(\"This is a Prime Number\")\n",
    "\n",
    "else:\n",
    "    print(\"this is not a Prime Number\")\n"
   ]
  },
  {
   "cell_type": "code",
   "execution_count": 10,
   "id": "64656ad8-d4c3-4d54-8399-031dfa5df855",
   "metadata": {},
   "outputs": [
    {
     "name": "stdin",
     "output_type": "stream",
     "text": [
      "please enter number to check 896532\n"
     ]
    },
    {
     "name": "stdout",
     "output_type": "stream",
     "text": [
      "this is not a Prime Number\n"
     ]
    }
   ],
   "source": [
    "#alternate way\n",
    "\n",
    "\n",
    "def is_prime(n):\n",
    "    if n<=1:\n",
    "        return False\n",
    "\n",
    "    for i in range(2,int(n**0.5)+1):\n",
    "        if n%i==0:\n",
    "            return False\n",
    "    return True\n",
    "n=int(input(\"please enter number to check\"))\n",
    "\n",
    "if is_prime(n):\n",
    "    print(\"This is a Prime Number\")\n",
    "\n",
    "else:\n",
    "    print(\"this is not a Prime Number\")\n"
   ]
  },
  {
   "cell_type": "code",
   "execution_count": 13,
   "id": "fbabffe3-d24c-406f-94db-7ff285f2dfd2",
   "metadata": {},
   "outputs": [
    {
     "name": "stdout",
     "output_type": "stream",
     "text": [
      "5.5\n"
     ]
    }
   ],
   "source": [
    "#Q. Write a Python function that takes a list of numbers as input and returns the\n",
    "#average of the numbers.\n",
    "#INPUT: [1,2,3,4,5,6,7,8,9,10]\n",
    "#OUTPUT: 5.5\n",
    "d=[1,2,3,4,5,6,7,8,9,10]\n",
    "print(sum(d)/len(d))\n",
    "\n"
   ]
  },
  {
   "cell_type": "code",
   "execution_count": 14,
   "id": "0ada6f81-966a-48dc-aa27-82e8d2f4496b",
   "metadata": {},
   "outputs": [
    {
     "name": "stdout",
     "output_type": "stream",
     "text": [
      "5.5\n"
     ]
    }
   ],
   "source": [
    "## alternate way\n",
    "\n",
    "def calculate_average(numbers):\n",
    "    if not numbers:\n",
    "        return 0  # Handle empty list case\n",
    "    total_sum = sum(numbers)\n",
    "    count = len(numbers)\n",
    "    average = total_sum / count\n",
    "    return average\n",
    "\n",
    "# Example usage\n",
    "input_list = [1, 2, 3, 4, 5, 6, 7, 8, 9, 10]\n",
    "output = calculate_average(input_list)\n",
    "print(output)  # Output: 5.5\n"
   ]
  },
  {
   "cell_type": "code",
   "execution_count": 18,
   "id": "eff6fd6e-6f96-4e83-a627-7fe03700b17f",
   "metadata": {},
   "outputs": [
    {
     "name": "stdout",
     "output_type": "stream",
     "text": [
      "unique element from the list is [0, 1, 2, 3, 4]\n"
     ]
    }
   ],
   "source": [
    "#Q. Write a Python function that takes a list as input and returns a new list\n",
    "#containing only the unique elements from the input list.\n",
    "#INPUT: [1,2,3,4,1,2,0,0,1]\n",
    "#OUTPUT: [0, 1, 2, 3, 4]\n",
    "#Solution:\n",
    "\n",
    "entered_list= [1,2,3,4,1,2,0,0,1]\n",
    "\n",
    "unique_list=[]\n",
    "\n",
    "for i in entered_list:\n",
    "    if i not in unique_list:\n",
    "        unique_list.append(i)\n",
    "\n",
    "\n",
    "print(f\"unique element from the list is {sorted(unique_list)}\")\n"
   ]
  },
  {
   "cell_type": "code",
   "execution_count": 22,
   "id": "f240e9b3-40d6-40a2-8f9b-098cd9815609",
   "metadata": {},
   "outputs": [
    {
     "name": "stdin",
     "output_type": "stream",
     "text": [
      "Enter the first string listen\n",
      "Enter the second string silent\n"
     ]
    },
    {
     "name": "stdout",
     "output_type": "stream",
     "text": [
      "They are anagrams\n"
     ]
    }
   ],
   "source": [
    "#Q. Write a Python function that takes two strings as input and checks if they are\n",
    "#anagrams (contain the same characters in any order).\n",
    "#INPUT:\n",
    "#Enter the first string: race\n",
    "#Enter the second string: care\n",
    "#OUTPUT: They are anagrams.\n",
    "\n",
    "g=input(\"Enter the first string\")\n",
    "h=input(\"Enter the second string\")\n",
    "\n",
    "list_g=sorted(list(g))\n",
    "list_h=sorted(list(h))\n",
    "\n",
    "if list_g==list_h:\n",
    "    print(f\"They are anagrams\")\n",
    "\n",
    "else:\n",
    "    print(f\"They are not anagrams\")\n",
    "\n"
   ]
  },
  {
   "cell_type": "code",
   "execution_count": 23,
   "id": "07be24db-0d96-4c1c-81aa-4f82aa99e004",
   "metadata": {},
   "outputs": [
    {
     "name": "stdin",
     "output_type": "stream",
     "text": [
      "Enter the first string:  listen\n",
      "Enter the second string:  silent\n"
     ]
    },
    {
     "name": "stdout",
     "output_type": "stream",
     "text": [
      "They are anagrams.\n"
     ]
    }
   ],
   "source": [
    "#alternate way\n",
    "\n",
    "def are_anagrams(str1, str2):\n",
    "    return sorted(str1) == sorted(str2)\n",
    "\n",
    "string1 = input(\"Enter the first string: \")\n",
    "string2 = input(\"Enter the second string: \")\n",
    "\n",
    "if are_anagrams(string1, string2):\n",
    "    print(\"They are anagrams.\")\n",
    "else:\n",
    "    print(\"They are not anagrams.\")\n"
   ]
  },
  {
   "cell_type": "code",
   "execution_count": 24,
   "id": "72f9997e-1f5f-4c26-aea6-1332a18353ee",
   "metadata": {},
   "outputs": [
    {
     "data": {
      "text/plain": [
       "4"
      ]
     },
     "execution_count": 24,
     "metadata": {},
     "output_type": "execute_result"
    }
   ],
   "source": [
    "#Q. Write a Python function that takes a list and an element as input and returns\n",
    "#the number of occurrences of that element in the list.\n",
    "#INPUT:\n",
    "#input_list = [ 1,2,3,4,2,2,3,4,5,9,2,6]\n",
    "#Enter the element to count: 2\n",
    "#OUTPUT: Occurrences: 4\n",
    "#Solution:\n",
    "\n",
    "input_list = [ 1,2,3,4,2,2,3,4,5,9,2,6]\n",
    "input_list.count(2)"
   ]
  },
  {
   "cell_type": "code",
   "execution_count": 26,
   "id": "3b09ccc4-b572-42d1-aa2f-3450b1d33565",
   "metadata": {},
   "outputs": [
    {
     "data": {
      "text/plain": [
       "3"
      ]
     },
     "execution_count": 26,
     "metadata": {},
     "output_type": "execute_result"
    }
   ],
   "source": [
    "##other implementation\n",
    "input_string=\"govind srivastava\"\n",
    "input_string.count('a')\n"
   ]
  },
  {
   "cell_type": "code",
   "execution_count": 27,
   "id": "93c1f50a-9913-4197-a2bd-fe594c7529dc",
   "metadata": {},
   "outputs": [
    {
     "data": {
      "text/plain": [
       "2"
      ]
     },
     "execution_count": 27,
     "metadata": {},
     "output_type": "execute_result"
    }
   ],
   "source": [
    "##other implementation\n",
    "input_tuple=(1,2,3,4,1,2,3)\n",
    "input_tuple.count(1)"
   ]
  },
  {
   "cell_type": "code",
   "execution_count": 30,
   "id": "cd167448-00bf-4793-a6c7-3916970fc08e",
   "metadata": {},
   "outputs": [
    {
     "ename": "AttributeError",
     "evalue": "'dict_keys' object has no attribute 'count'",
     "output_type": "error",
     "traceback": [
      "\u001b[1;31m---------------------------------------------------------------------------\u001b[0m",
      "\u001b[1;31mAttributeError\u001b[0m                            Traceback (most recent call last)",
      "Cell \u001b[1;32mIn[30], line 3\u001b[0m\n\u001b[0;32m      1\u001b[0m \u001b[38;5;66;03m##other implementation\u001b[39;00m\n\u001b[0;32m      2\u001b[0m input_dict\u001b[38;5;241m=\u001b[39m{\u001b[38;5;124m'\u001b[39m\u001b[38;5;124ma\u001b[39m\u001b[38;5;124m'\u001b[39m:\u001b[38;5;241m4\u001b[39m,\u001b[38;5;124m'\u001b[39m\u001b[38;5;124mb\u001b[39m\u001b[38;5;124m'\u001b[39m:\u001b[38;5;241m2\u001b[39m,\u001b[38;5;124m'\u001b[39m\u001b[38;5;124mc\u001b[39m\u001b[38;5;124m'\u001b[39m:\u001b[38;5;241m3\u001b[39m,\u001b[38;5;124m'\u001b[39m\u001b[38;5;124ma\u001b[39m\u001b[38;5;124m'\u001b[39m:\u001b[38;5;241m1\u001b[39m,\u001b[38;5;124m'\u001b[39m\u001b[38;5;124me\u001b[39m\u001b[38;5;124m'\u001b[39m:\u001b[38;5;241m4\u001b[39m}\n\u001b[1;32m----> 3\u001b[0m \u001b[43minput_dict\u001b[49m\u001b[38;5;241;43m.\u001b[39;49m\u001b[43mkeys\u001b[49m\u001b[43m(\u001b[49m\u001b[43m)\u001b[49m\u001b[38;5;241;43m.\u001b[39;49m\u001b[43mcount\u001b[49m(\u001b[38;5;124m'\u001b[39m\u001b[38;5;124ma\u001b[39m\u001b[38;5;124m'\u001b[39m)\n",
      "\u001b[1;31mAttributeError\u001b[0m: 'dict_keys' object has no attribute 'count'"
     ]
    }
   ],
   "source": [
    "##other implementation\n",
    "input_dict={'a':4,'b':2,'c':3,'a':1,'e':4}\n",
    "input_dict.keys().count('a')\n",
    "\n",
    "###count can not be used for dictionary as shown below [AttributeError: 'dict_keys' object has no attribute 'count']"
   ]
  },
  {
   "cell_type": "code",
   "execution_count": 34,
   "id": "5fdf5373-0220-4a3f-84b0-a548505ab57d",
   "metadata": {},
   "outputs": [
    {
     "name": "stdout",
     "output_type": "stream",
     "text": [
      "(2, 1)\n",
      "[(2, 1), (3, 2), (1, 3), (5, 4), (4, 5)]\n"
     ]
    }
   ],
   "source": [
    "#Q. Write a Python function that takes a list of tuples as input and returns the list\n",
    "#sorted based on the second element of each tuple.\n",
    "#INPUT:[(1, 3), (2, 1), (3, 2), (4, 5), (5, 4)]\n",
    "#OUTPUT: Sorted list of tuples: [(2, 1), (3, 2), (1, 3), (5, 4), (4, 5)]\n",
    "\n",
    "inp= [(1, 3), (2, 1), (3, 2), (4, 5), (5, 4)]\n",
    "\n",
    "def sorted_with_tuples_second_element(inp):\n",
    "    return inp[1]\n",
    "print(inp[1])\n",
    "\n",
    "sorted_list=sorted(inp,key=sorted_with_tuples_second_element)\n",
    "\n",
    "\n",
    "print(sorted_list)\n"
   ]
  },
  {
   "cell_type": "code",
   "execution_count": 36,
   "id": "531e3b1d-c597-4516-b766-8012bd332350",
   "metadata": {},
   "outputs": [
    {
     "data": {
      "text/plain": [
       "[(2, 1), (3, 2), (1, 3), (5, 4), (4, 5)]"
      ]
     },
     "execution_count": 36,
     "metadata": {},
     "output_type": "execute_result"
    }
   ],
   "source": [
    "##using lambda\n",
    "inp1= [(1, 3), (2, 1), (3, 2), (4, 5), (5, 4)]\n",
    "\n",
    "sorted_list_tuple_second_element=sorted(inp1,key=lambda x:x[1])\n",
    "sorted_list_tuple_second_element\n"
   ]
  },
  {
   "cell_type": "code",
   "execution_count": 44,
   "id": "bbe56672-1558-410b-a381-ced51a059b01",
   "metadata": {},
   "outputs": [
    {
     "name": "stdout",
     "output_type": "stream",
     "text": [
      "8\n"
     ]
    }
   ],
   "source": [
    "#Q. Write a Python function that takes a list of integers as input and returns the\n",
    "#second largest element in the list.\n",
    "#INPUT: [3, 5, 2, 8, 9, 5, 1]\n",
    "#OUTPUT: Second largest element: 8\n",
    "\n",
    "in1=[3, 5, 2, 8, 9, 5, 1]\n",
    "in2=set(in1)\n",
    "in2\n",
    "\n",
    "in2.remove(max(in2))\n",
    "\n",
    "print(max(in2))\n"
   ]
  },
  {
   "cell_type": "code",
   "execution_count": 62,
   "id": "f64fb5d5-4de2-4cd6-acad-cb6a88291cef",
   "metadata": {},
   "outputs": [
    {
     "name": "stdout",
     "output_type": "stream",
     "text": [
      "[1, 16, 81, 256, 625]\n"
     ]
    }
   ],
   "source": [
    "#Q.Write a Python lambda function that takes a list of numbers and an exponent\n",
    "#n as input and returns a new list with each element raised to the power of n.\n",
    "#INPUT:\n",
    "#input_numbers = [1, 2, 3, 4, 5]\n",
    "#exponent = 3\n",
    "#OUTPUT: [1, 16, 81, 256, 625]\n",
    "\n",
    "input_numbers = [1, 2, 3, 4, 5]\n",
    "\n",
    "output=list(map(lambda x:x**n,input_numbers))\n",
    "\n",
    "n=4\n",
    "print(output)"
   ]
  },
  {
   "cell_type": "code",
   "execution_count": 64,
   "id": "445935ba-69ac-434e-99f8-c13b2528ba31",
   "metadata": {},
   "outputs": [
    {
     "name": "stdout",
     "output_type": "stream",
     "text": [
      "[1, 4, 9, 16, 25]\n"
     ]
    }
   ],
   "source": [
    "input_num=[1,2,3,4,5]\n",
    "\n",
    "square=[]\n",
    "for i in input_num:\n",
    "    j=i*i\n",
    "    square.append(j)\n",
    "\n",
    "print(square)\n",
    "    "
   ]
  },
  {
   "cell_type": "code",
   "execution_count": 63,
   "id": "fea670cc-178f-4728-ae3c-48ef78949069",
   "metadata": {},
   "outputs": [
    {
     "data": {
      "text/plain": [
       "[1, 3, 5, 7, 9]"
      ]
     },
     "execution_count": 63,
     "metadata": {},
     "output_type": "execute_result"
    }
   ],
   "source": [
    "#Q. Write a Python function that takes a list of integers as input and returns a new\n",
    "#list containing only the odd numbers.\n",
    "#INPUT: [1, 2, 3, 4, 5, 6, 7, 8, 9, 10]\n",
    "#OUTPUT: [1,3,5,7,9]\n",
    "#Solution:\n",
    "I=[1, 2, 3, 4, 5, 6, 7, 8, 9, 10]\n",
    "\n",
    "filter_output=list(filter(lambda x:x%2!=0,I))\n",
    "filter_output\n"
   ]
  },
  {
   "cell_type": "code",
   "execution_count": 65,
   "id": "167e21d4-44a6-4431-a788-e7b843f831a1",
   "metadata": {},
   "outputs": [
    {
     "name": "stdout",
     "output_type": "stream",
     "text": [
      "[1, 3, 5, 7, 9]\n"
     ]
    }
   ],
   "source": [
    "I1=[1, 2, 3, 4, 5, 6, 7, 8, 9, 10]\n",
    "I2=[]\n",
    "for i in I1:\n",
    "    if i%2!=0:\n",
    "        I2.append(i)\n",
    "\n",
    "print(I2)"
   ]
  },
  {
   "cell_type": "code",
   "execution_count": 58,
   "id": "b4b1e66e-56b8-44bd-9259-8eabd2440638",
   "metadata": {},
   "outputs": [
    {
     "data": {
      "text/plain": [
       "55"
      ]
     },
     "execution_count": 58,
     "metadata": {},
     "output_type": "execute_result"
    }
   ],
   "source": [
    "#Q. Write a Python function that takes a list of integers as input and returns addition\n",
    "#list containing only the odd numbers.\n",
    "#INPUT: [1, 2, 3, 4, 5, 6, 7, 8, 9, 10]\n",
    "#output-55\n",
    "\n",
    "\n",
    "j=[1, 2, 3, 4, 5, 6, 7, 8, 9, 10]\n",
    "\n",
    "from functools import reduce\n",
    "\n",
    "sum_of_list=reduce(lambda x,y:x+y, j)\n",
    "sum_of_list"
   ]
  },
  {
   "cell_type": "code",
   "execution_count": 60,
   "id": "6a409820-0d28-4928-bcbe-f1dec87efb2a",
   "metadata": {},
   "outputs": [
    {
     "name": "stdout",
     "output_type": "stream",
     "text": [
      "sum of element of a list 55\n"
     ]
    }
   ],
   "source": [
    "#alternate way\n",
    "j1=[1, 2, 3, 4, 5, 6, 7, 8, 9, 10]\n",
    "sum=0\n",
    "for i in j1:\n",
    "    sum+=i\n",
    "\n",
    "print(f\"sum of element of a list {sum}\")"
   ]
  },
  {
   "cell_type": "code",
   "execution_count": null,
   "id": "457ca29c-f7f1-4cf1-90f5-de66081cef5f",
   "metadata": {},
   "outputs": [],
   "source": []
  },
  {
   "cell_type": "code",
   "execution_count": null,
   "id": "43c9a871-43ff-4576-bb35-5aca2a8eb97d",
   "metadata": {},
   "outputs": [],
   "source": []
  },
  {
   "cell_type": "code",
   "execution_count": null,
   "id": "786f6370-3a2b-4205-9c29-86da2810baf1",
   "metadata": {},
   "outputs": [],
   "source": []
  },
  {
   "cell_type": "code",
   "execution_count": null,
   "id": "31cd1f07-92c8-4312-9585-1fb82f176154",
   "metadata": {},
   "outputs": [],
   "source": []
  },
  {
   "cell_type": "code",
   "execution_count": null,
   "id": "9af41134-0b10-493b-85e9-bd64f0f1b24d",
   "metadata": {},
   "outputs": [],
   "source": []
  },
  {
   "cell_type": "code",
   "execution_count": null,
   "id": "05d43da3-e917-4c84-a4b5-4ec841809e0a",
   "metadata": {},
   "outputs": [],
   "source": []
  },
  {
   "cell_type": "code",
   "execution_count": null,
   "id": "9d34968e-63c3-4e45-a10e-eee5900094a9",
   "metadata": {},
   "outputs": [],
   "source": []
  },
  {
   "cell_type": "code",
   "execution_count": null,
   "id": "baf682f7-39d8-460d-b34b-697db89b6c7e",
   "metadata": {},
   "outputs": [],
   "source": []
  },
  {
   "cell_type": "code",
   "execution_count": null,
   "id": "50386e71-ac44-40a2-94f6-11b062c17b70",
   "metadata": {},
   "outputs": [],
   "source": []
  },
  {
   "cell_type": "code",
   "execution_count": null,
   "id": "bb731173-5381-4e2f-af7f-77fbfa056b21",
   "metadata": {},
   "outputs": [],
   "source": []
  },
  {
   "cell_type": "code",
   "execution_count": null,
   "id": "621828a0-8222-4d43-8864-6042580232b9",
   "metadata": {},
   "outputs": [],
   "source": []
  },
  {
   "cell_type": "code",
   "execution_count": null,
   "id": "ff8c749c-aae9-4803-b9d9-7da9e6411b9a",
   "metadata": {},
   "outputs": [],
   "source": []
  },
  {
   "cell_type": "code",
   "execution_count": null,
   "id": "8f789304-e3b6-4033-be41-4fae56f3c283",
   "metadata": {},
   "outputs": [],
   "source": []
  },
  {
   "cell_type": "code",
   "execution_count": null,
   "id": "0d38fcaa-3759-46b0-8d60-a11e670a9971",
   "metadata": {},
   "outputs": [],
   "source": []
  },
  {
   "cell_type": "code",
   "execution_count": null,
   "id": "f714cb85-0239-46cc-90a8-a7c55f7d1956",
   "metadata": {},
   "outputs": [],
   "source": []
  },
  {
   "cell_type": "code",
   "execution_count": null,
   "id": "34e86586-f879-4ef6-bc02-d100cf8337a4",
   "metadata": {},
   "outputs": [],
   "source": []
  },
  {
   "cell_type": "code",
   "execution_count": null,
   "id": "b8849f2d-0432-4d0b-8d84-6bdf51bd9cfe",
   "metadata": {},
   "outputs": [],
   "source": []
  },
  {
   "cell_type": "code",
   "execution_count": null,
   "id": "4108df92-55e6-44ad-b8f9-9177e8cbe10a",
   "metadata": {},
   "outputs": [],
   "source": []
  },
  {
   "cell_type": "code",
   "execution_count": null,
   "id": "0475e304-c438-4378-93cd-4431916c4c26",
   "metadata": {},
   "outputs": [],
   "source": []
  },
  {
   "cell_type": "code",
   "execution_count": null,
   "id": "3ba15a0d-0696-4c2a-bcf4-b6a86c048935",
   "metadata": {},
   "outputs": [],
   "source": []
  },
  {
   "cell_type": "code",
   "execution_count": null,
   "id": "4d866f47-af36-43ce-9621-25e50e4b43b2",
   "metadata": {},
   "outputs": [],
   "source": []
  },
  {
   "cell_type": "code",
   "execution_count": null,
   "id": "76cfabab-76cc-43c0-91c4-4d2f070fcf17",
   "metadata": {},
   "outputs": [],
   "source": []
  },
  {
   "cell_type": "code",
   "execution_count": null,
   "id": "57619d19-7b45-4492-a124-c192e12c83fe",
   "metadata": {},
   "outputs": [],
   "source": []
  },
  {
   "cell_type": "code",
   "execution_count": null,
   "id": "b3a63f9d-bdab-472b-90c1-9e8e4eaffcff",
   "metadata": {},
   "outputs": [],
   "source": []
  },
  {
   "cell_type": "code",
   "execution_count": null,
   "id": "c4eb50b9-165c-4e7f-941b-dc76295c2e38",
   "metadata": {},
   "outputs": [],
   "source": []
  },
  {
   "cell_type": "code",
   "execution_count": null,
   "id": "c5f1d7fc-cd7e-43db-a256-709111a7af23",
   "metadata": {},
   "outputs": [],
   "source": []
  },
  {
   "cell_type": "code",
   "execution_count": null,
   "id": "eda72d68-83d8-4fec-b278-3a996b2aad0a",
   "metadata": {},
   "outputs": [],
   "source": []
  },
  {
   "cell_type": "code",
   "execution_count": null,
   "id": "b1fd4f11-45e8-4311-b19d-c0fef78ba40f",
   "metadata": {},
   "outputs": [],
   "source": []
  },
  {
   "cell_type": "code",
   "execution_count": null,
   "id": "4dd603a3-9929-491a-b887-319148d962dd",
   "metadata": {},
   "outputs": [],
   "source": []
  },
  {
   "cell_type": "code",
   "execution_count": null,
   "id": "f24ceb5f-7135-426b-9a24-dd35c7d2f9d0",
   "metadata": {},
   "outputs": [],
   "source": []
  },
  {
   "cell_type": "code",
   "execution_count": null,
   "id": "59ac48cd-6c4c-4ba4-a7b6-37bfe218db43",
   "metadata": {},
   "outputs": [],
   "source": []
  },
  {
   "cell_type": "code",
   "execution_count": null,
   "id": "e52c1785-177b-4179-a685-a36567c24fe3",
   "metadata": {},
   "outputs": [],
   "source": []
  },
  {
   "cell_type": "code",
   "execution_count": null,
   "id": "0cccdccd-13bf-406b-99e1-3ba5924cd7be",
   "metadata": {},
   "outputs": [],
   "source": []
  }
 ],
 "metadata": {
  "kernelspec": {
   "display_name": "Python 3 (ipykernel)",
   "language": "python",
   "name": "python3"
  },
  "language_info": {
   "codemirror_mode": {
    "name": "ipython",
    "version": 3
   },
   "file_extension": ".py",
   "mimetype": "text/x-python",
   "name": "python",
   "nbconvert_exporter": "python",
   "pygments_lexer": "ipython3",
   "version": "3.11.7"
  }
 },
 "nbformat": 4,
 "nbformat_minor": 5
}
