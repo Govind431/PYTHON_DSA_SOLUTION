{
 "cells": [
  {
   "cell_type": "markdown",
   "id": "addad4fc",
   "metadata": {},
   "source": [
    "# LIST"
   ]
  },
  {
   "cell_type": "code",
   "execution_count": 1,
   "id": "2ebd0df9",
   "metadata": {},
   "outputs": [
    {
     "name": "stdout",
     "output_type": "stream",
     "text": [
      "[10, 20, 30, 50, 60, 40, 80]\n",
      "[20, 10, 50, 40]\n"
     ]
    }
   ],
   "source": [
    "##Q: Write a Python program to remove duplicates from a list.\n",
    "#INPUT: a = [10,20,30,20,10,50,60,40,80,50,40]\n",
    "#OUTPUT: {40, 10, 80, 50, 20, 60, 30}\n",
    "a = [10,20,30,20,10,50,60,40,80,50,40]\n",
    "unique_items=[]\n",
    "dup_list=[]\n",
    "for i in a:\n",
    "    if i not in unique_items:\n",
    "        unique_items.append(i)\n",
    "    elif i not in dup_list:\n",
    "        dup_list.append(i)\n",
    "    \n",
    "print(unique_items)\n",
    "print(dup_list)\n",
    "#here both unique list and duplicate list are printed using for loop\n",
    "#a = [10,20,30,20,10,50,60,40,80,50,40]\n",
    "#a=list(set(a))\n",
    "#print(a)   this is the shortest approach without using for loop "
   ]
  },
  {
   "cell_type": "code",
   "execution_count": 3,
   "id": "fedc6414",
   "metadata": {},
   "outputs": [
    {
     "data": {
      "text/plain": [
       "-5"
      ]
     },
     "execution_count": 3,
     "metadata": {},
     "output_type": "execute_result"
    }
   ],
   "source": [
    "#Write a Python program to sum all the items in a list.\n",
    "#INPUT: [1,2, -8]\n",
    "#OUTPUT: -5\n",
    "a=[1,2,-8]\n",
    "from functools import reduce \n",
    "\n",
    "sum_of_list=reduce(lambda x,y:x+y,a)\n",
    "sum_of_list\n"
   ]
  },
  {
   "cell_type": "code",
   "execution_count": 6,
   "id": "42edb254",
   "metadata": {},
   "outputs": [
    {
     "data": {
      "text/plain": [
       "-5"
      ]
     },
     "execution_count": 6,
     "metadata": {},
     "output_type": "execute_result"
    }
   ],
   "source": [
    "##alternate way\n",
    "sum_of_list=sum(a)\n",
    "sum_of_list"
   ]
  },
  {
   "cell_type": "code",
   "execution_count": 7,
   "id": "322aaedf",
   "metadata": {},
   "outputs": [
    {
     "name": "stdout",
     "output_type": "stream",
     "text": [
      "sum of list is  -5\n"
     ]
    }
   ],
   "source": [
    "##altenate way\n",
    "sum=0\n",
    "for i in a:\n",
    "    sum=sum+i\n",
    "print('sum of list is ', sum )"
   ]
  },
  {
   "cell_type": "code",
   "execution_count": 18,
   "id": "3331b4b1",
   "metadata": {},
   "outputs": [
    {
     "name": "stdout",
     "output_type": "stream",
     "text": [
      "['aba', '1221']\n"
     ]
    },
    {
     "data": {
      "text/plain": [
       "2"
      ]
     },
     "execution_count": 18,
     "metadata": {},
     "output_type": "execute_result"
    }
   ],
   "source": [
    "######Write a Python program to count the number of strings from a given list of\n",
    "#strings with length 2 or more and the first and last characters are the same.\n",
    "#INPUT: ['abc', 'xyz', 'aba', '1221']\n",
    "#OUTPUT: 2\n",
    "\n",
    "a=['abc','xyz','aba','1221']\n",
    "filter_list=[]\n",
    "for i in a:\n",
    "    if len(i)>=2 and i[0]==i[-1]:\n",
    "        filter_list.append(i)\n",
    "print(filter_list)\n",
    "len(filter_list)"
   ]
  },
  {
   "cell_type": "code",
   "execution_count": 5,
   "id": "65b1aaf7",
   "metadata": {},
   "outputs": [
    {
     "data": {
      "text/plain": [
       "['Green', 'White', 'Black']"
      ]
     },
     "execution_count": 5,
     "metadata": {},
     "output_type": "execute_result"
    }
   ],
   "source": [
    "#Write a Python program to print a specified list after removing the 0th, 4th and\n",
    "#5th elements.\n",
    "#INPUT: ['Red', 'Green', 'White', 'Black', 'Pink', 'Yellow']\n",
    "#OUTPUT: ['Green', 'White', 'Black']\n",
    "#sol--- b[1:4] but way is given below\n",
    "b=['Red', 'Green', 'White', 'Black', 'Pink', 'Yellow']\n",
    "\n",
    "del b[0]    \n",
    "del b[3]  # after oth is removed then 4th position will be shifted to 3rd and after that 5th will be 3rd due to two elements removed \n",
    "del b[3]\n",
    "b\n"
   ]
  },
  {
   "cell_type": "code",
   "execution_count": 6,
   "id": "04edec50",
   "metadata": {},
   "outputs": [
    {
     "name": "stdout",
     "output_type": "stream",
     "text": [
      "list after removing even numbers is :  [7, 25, 27]\n"
     ]
    }
   ],
   "source": [
    "#Write a Python program to print the numbers of a specified list after removing\n",
    "#even numbers from it.\n",
    "#INPUT: [7,8, 120, 25, 44, 20, 27]\n",
    "#OUTPUT: [7,25,27]\n",
    "c=[7,8, 120, 25, 44, 20, 27]\n",
    "odd_num=[]\n",
    "for i in c:\n",
    "    if i%2!=0:\n",
    "        odd_num.append(i)\n",
    "print('list after removing even numbers is : ',odd_num)\n",
    "        "
   ]
  },
  {
   "cell_type": "code",
   "execution_count": 3,
   "id": "3bd8ec50",
   "metadata": {
    "scrolled": true
   },
   "outputs": [
    {
     "name": "stdout",
     "output_type": "stream",
     "text": [
      "abcd\n"
     ]
    }
   ],
   "source": [
    "##Write a Python program to convert a list of characters into a string.\n",
    "##INPUT: ['a', 'b', 'c', 'd']\n",
    "##OUTPUT: abcd\n",
    "c=['a', 'b', 'c', 'd']\n",
    "print(\"\".join(c))"
   ]
  },
  {
   "cell_type": "code",
   "execution_count": 7,
   "id": "86b298ca",
   "metadata": {},
   "outputs": [
    {
     "name": "stdout",
     "output_type": "stream",
     "text": [
      "difference of two list is :  [3, 5, 9, 2, 4, 6, 8]\n"
     ]
    }
   ],
   "source": [
    "#Write a Python program to calculate the difference between the two lists.\n",
    "#INPUT:\n",
    "#list1 = [1, 3, 5, 7, 9]\n",
    "#list2 = [1, 2, 4, 6, 7, 8]\n",
    "#OUTPUT: [9, 3, 5, 8, 2, 4, 6]\n",
    "list1 = [1, 3, 5, 7, 9]\n",
    "list2 = [1, 2, 4, 6, 7, 8]\n",
    "diff=[]\n",
    "\n",
    "for i in list1:\n",
    "    if i not in list2:\n",
    "        diff.append(i)\n",
    "for i in list2:\n",
    "    if i not in list1:\n",
    "        diff.append(i)\n",
    "print('difference of two list is : ',diff)"
   ]
  },
  {
   "cell_type": "code",
   "execution_count": 8,
   "id": "79703d2d",
   "metadata": {},
   "outputs": [
    {
     "name": "stdout",
     "output_type": "stream",
     "text": [
      "{1: 3, 2: 3, 3: 3, 4: 2, 5: 1}\n"
     ]
    }
   ],
   "source": [
    "#Write a Python program to get the frequency of elements in a list.\n",
    "#INPUT: [1, 2, 3, 2, 4, 1, 3, 5, 2, 3, 4, 1]\n",
    "#OUTPUT: {1: 3, 2: 3, 3: 3, 4: 2, 5: 1}# initializing the list\n",
    "random_list = [1, 2, 3, 2, 4, 1, 3, 5, 2, 3, 4, 1]\n",
    "frequency = {}\n",
    "\n",
    "# iterating over the list\n",
    "for item in random_list:\n",
    "   # checking the element in dictionary\n",
    "   if item in frequency:\n",
    "      # incrementing the counr\n",
    "      frequency[item] += 1\n",
    "   else:\n",
    "      # initializing the count\n",
    "      frequency[item] = 1\n",
    "\n",
    "# printing the frequency\n",
    "print(frequency)"
   ]
  },
  {
   "cell_type": "code",
   "execution_count": 10,
   "id": "dc9500bc",
   "metadata": {},
   "outputs": [
    {
     "name": "stdout",
     "output_type": "stream",
     "text": [
      "{1: 3, 2: 3, 3: 3, 4: 2, 5: 1}\n"
     ]
    }
   ],
   "source": [
    "#alternate method\n",
    "# importing the module\n",
    "import collections\n",
    "\n",
    "# initializing the list\n",
    "random_list = [1, 2, 3, 2, 4, 1, 3, 5, 2, 3, 4, 1]\n",
    "\n",
    "# using Counter to find frequency of elements\n",
    "frequency = collections.Counter(random_list)\n",
    "\n",
    "# printing the frequency\n",
    "print(dict(frequency))\n"
   ]
  },
  {
   "cell_type": "code",
   "execution_count": 12,
   "id": "9936f22b",
   "metadata": {},
   "outputs": [
    {
     "name": "stdout",
     "output_type": "stream",
     "text": [
      "['Green', 'White']\n"
     ]
    }
   ],
   "source": [
    "#Write a Python program to find common items in two lists.\n",
    "#INPUT:\n",
    "#color1 = \"Red\", \"Green\", \"Orange\", \"White\"\n",
    "#color2 = \"Black\", \"Green\", \"White\", \"Pink\"\n",
    "#OUTPUT: {'Green', 'White'}\n",
    "color1 = [\"Red\", \"Green\", \"Orange\", \"White\"]\n",
    "color2 = [\"Black\", \"Green\", \"White\", \"Pink\"]\n",
    "common_item=[]\n",
    "for item in color1:\n",
    "    if item in color2:\n",
    "        common_item.append(item)\n",
    "        \n",
    "print(common_item)"
   ]
  },
  {
   "cell_type": "code",
   "execution_count": 13,
   "id": "d526bee5",
   "metadata": {},
   "outputs": [
    {
     "name": "stdout",
     "output_type": "stream",
     "text": [
      "{'White', 'Green'}\n"
     ]
    }
   ],
   "source": [
    "#alternate method\n",
    "color1 = [\"Red\", \"Green\", \"Orange\", \"White\"]\n",
    "color2 = [\"Black\", \"Green\", \"White\", \"Pink\"]\n",
    "common_items = set(color1) & set(color2)\n",
    "print(common_items)\n"
   ]
  },
  {
   "cell_type": "code",
   "execution_count": 22,
   "id": "8a910964",
   "metadata": {},
   "outputs": [
    {
     "name": "stdout",
     "output_type": "stream",
     "text": [
      "['p1', 'q1', 'p2', 'q2', 'p3', 'q3', 'p4', 'q4', 'p5', 'q5']\n"
     ]
    }
   ],
   "source": [
    "#Write a Python program to create a list by concatenating a given list with a\n",
    "#range from 1 to n.\n",
    "#INPUT : ['p', 'q'] and n =5\n",
    "#OUTPUT: ['p1', 'q1', 'p2', 'q2', 'p3', 'q3', 'p4', 'q4', 'p5', 'q5']\n",
    "input=['p','q']\n",
    "n=5\n",
    "output=[]\n",
    "for i in range(1,n+1):\n",
    "    for item in input:\n",
    "        output.append(item+str(i))\n",
    "        \n",
    "print(output)\n",
    "        "
   ]
  },
  {
   "cell_type": "code",
   "execution_count": 24,
   "id": "2567d15b",
   "metadata": {},
   "outputs": [
    {
     "name": "stdout",
     "output_type": "stream",
     "text": [
      "['p1', 'q1', 'p2', 'q2', 'p3', 'q3', 'p4', 'q4', 'p5', 'q5']\n"
     ]
    }
   ],
   "source": [
    "#alternate way\n",
    "given_list=['p','q']\n",
    "n=5\n",
    "output_list = [item + str(i) for i in range(1, n + 1) for item in given_list]\n",
    "print(output_list)"
   ]
  },
  {
   "cell_type": "code",
   "execution_count": 33,
   "id": "745b92ce",
   "metadata": {},
   "outputs": [
    {
     "name": "stdout",
     "output_type": "stream",
     "text": [
      "113350\n"
     ]
    }
   ],
   "source": [
    "#Write a Python program to convert a list of multiple integers into a single \"\".join() is used for concatenation of string element only\n",
    "#integer.\n",
    "#INPUT: [11, 33, 50]\n",
    "#OUTPUT 113350\n",
    "\n",
    "lst=[11,33,50]\n",
    "s=[str(i) for i in lst]\n",
    "print(\"\".join(s))"
   ]
  },
  {
   "cell_type": "code",
   "execution_count": 39,
   "id": "b85f3e4f",
   "metadata": {},
   "outputs": [
    {
     "name": "stdout",
     "output_type": "stream",
     "text": [
      "['11', '33', '50']\n",
      "113350\n"
     ]
    }
   ],
   "source": [
    "#alternate way\n",
    "lst=[11,33,50]\n",
    "s=[]\n",
    "for i in lst:\n",
    "    s.append(str(i))\n",
    "    \n",
    "print(s)\n",
    "print(\"\".join(s))\n",
    "    \n",
    "    "
   ]
  },
  {
   "cell_type": "code",
   "execution_count": 44,
   "id": "a7539e08",
   "metadata": {},
   "outputs": [
    {
     "ename": "SyntaxError",
     "evalue": "unterminated string literal (detected at line 10) (3827517794.py, line 10)",
     "output_type": "error",
     "traceback": [
      "\u001b[1;36m  Cell \u001b[1;32mIn[44], line 10\u001b[1;36m\u001b[0m\n\u001b[1;33m    color = [(\"Black\", \"#000000\", \"rgb(0, 0, 0)\"), (\"Red\", \"#FF0000\", \"rgb(255,\u001b[0m\n\u001b[1;37m                                                                      ^\u001b[0m\n\u001b[1;31mSyntaxError\u001b[0m\u001b[1;31m:\u001b[0m unterminated string literal (detected at line 10)\n"
     ]
    }
   ],
   "source": [
    "#Write a Python program to split a list into different variables.\n",
    "#INPUT: color = [(\"Black\", \"#000000\", \"rgb(0, 0, 0)\"), (\"Red\", \"#FF0000\", \"rgb(255,\n",
    "#0, 0)\"), (\"Yellow\", \"#FFFF00\", \"rgb(255, 255, 0)\")]\n",
    "#OUTPUT:\n",
    "#Var1= ('Black', '#000000', 'rgb(0, 0,\n",
    "#0)')\n",
    "#Var2= ('Red', '#FF0000', 'rgb(255, 0,\n",
    "#0)')\n",
    "#Var3 = ('Yellow', '#FFFF00', 'rgb(255, 255, 0)')\n",
    "color = [(\"Black\", \"#000000\", \"rgb(0, 0, 0)\"), (\"Red\", \"#FF0000\", \"rgb(255,\n",
    "0, 0)\"),(\"Yellow\", \"#FFFF00\", \"rgb(255, 255, 0)\")]\n",
    "var1,var2,var3=color\n",
    "print(var1)\n",
    "print(var2)\n",
    "print(var3)"
   ]
  },
  {
   "cell_type": "code",
   "execution_count": 45,
   "id": "b7a231f0",
   "metadata": {},
   "outputs": [
    {
     "name": "stdout",
     "output_type": "stream",
     "text": [
      "[['a', 'd', 'g', 'j', 'm'], ['b', 'e', 'h', 'k', 'n'], ['c', 'f', 'i', 'l']]\n"
     ]
    }
   ],
   "source": [
    "#Write a Python program to split a list every Nth element.\n",
    "#INPUT: ['a', 'b', 'c', 'd', 'e', 'f', 'g', 'h', 'i', 'j', 'k', 'l', 'm', 'n']\n",
    "#OUTPUT: [['a', 'd', 'g', 'j', 'm'], ['b', 'e', 'h', 'k', 'n'], ['c', 'f', 'i', 'l']]\n",
    "INPUT= ['a', 'b', 'c', 'd', 'e', 'f', 'g', 'h', 'i', 'j', 'k', 'l', 'm', 'n']\n",
    "N = 3\n",
    "output_list = [INPUT[i::N] for i in range(N)]\n",
    "print(output_list)"
   ]
  },
  {
   "cell_type": "code",
   "execution_count": 48,
   "id": "85de55fe",
   "metadata": {},
   "outputs": [
    {
     "name": "stdout",
     "output_type": "stream",
     "text": [
      "[['a', 'd', 'g', 'j', 'm'], ['b', 'e', 'h', 'k', 'n'], ['c', 'f', 'i', 'l']]\n"
     ]
    }
   ],
   "source": [
    "#ALTERNATE METHOD\n",
    "c= ['a', 'b', 'c', 'd', 'e', 'f', 'g', 'h', 'i', 'j', 'k', 'l', 'm', 'n']\n",
    "n=3\n",
    "output_list=[]\n",
    "for i in range(n):\n",
    "    output_list.append(c[i::n])\n",
    "    \n",
    "print(output_list)\n",
    "    \n",
    "    "
   ]
  },
  {
   "cell_type": "markdown",
   "id": "09b60799",
   "metadata": {},
   "source": [
    "# TUPLE"
   ]
  },
  {
   "cell_type": "code",
   "execution_count": 51,
   "id": "b8c966e7",
   "metadata": {},
   "outputs": [
    {
     "name": "stdout",
     "output_type": "stream",
     "text": [
      "4\n",
      "8\n",
      "3\n"
     ]
    }
   ],
   "source": [
    "#Write a Python program to unpack a tuple into several variables.\n",
    "#INPUT: (4,8,3)\n",
    "#OUTPUT:\n",
    "#A1=4\n",
    "#A2=8\n",
    "#A3-3\n",
    "\n",
    "Z=(4,8,3)\n",
    "v1,v2,v3=Z\n",
    "print(v1)\n",
    "print(v2)\n",
    "print(v3)"
   ]
  },
  {
   "cell_type": "code",
   "execution_count": 52,
   "id": "ef5f9a25",
   "metadata": {},
   "outputs": [
    {
     "name": "stdout",
     "output_type": "stream",
     "text": [
      "False\n"
     ]
    }
   ],
   "source": [
    "#Write a Python program to check whether an element (5) exists within a tuple.\n",
    "#INPUT: (\"w\", 3, \"r\", \"e\", \"s\", \"o\", \"u\", \"r\", \"c\", \"e\")\n",
    "#OUTPUT: FALSE\n",
    "#Solution:\n",
    "input_tuple = (\"w\", 3, \"r\", \"e\", \"s\", \"o\", \"u\", \"r\", \"c\", \"e\")\n",
    "element_exists = 5 in input_tuple\n",
    "print(element_exists)"
   ]
  },
  {
   "cell_type": "code",
   "execution_count": 53,
   "id": "da406bf7",
   "metadata": {},
   "outputs": [
    {
     "name": "stdout",
     "output_type": "stream",
     "text": [
      "(20, 15, 10, 5)\n"
     ]
    }
   ],
   "source": [
    "#Write a Python program to reverse a tuple.\n",
    "#INPUT: (5,10,15,20)\n",
    "#OUTPUT: (20,15,10,5)\n",
    "#Solution:\n",
    "input_tuple = (5, 10, 15, 20)\n",
    "reversed_tuple = input_tuple[::-1]\n",
    "print(reversed_tuple)\n"
   ]
  },
  {
   "cell_type": "code",
   "execution_count": 54,
   "id": "69f22580",
   "metadata": {},
   "outputs": [
    {
     "name": "stdout",
     "output_type": "stream",
     "text": [
      "This is a tuple (100, 200, 300)\n"
     ]
    }
   ],
   "source": [
    "#write a Python program to print a tuple with string formatting.\n",
    "#INPUT: (100, 200, 300)\n",
    "#OUTPUT: This is a tuple (100, 200, 300)\n",
    "#Solution:\n",
    "input_tuple = (100, 200, 300)\n",
    "print(\"This is a tuple\", input_tuple)"
   ]
  },
  {
   "cell_type": "code",
   "execution_count": null,
   "id": "227b51aa",
   "metadata": {},
   "outputs": [],
   "source": [
    "#Write a Python program to remove an empty tuple(s) from a list of tuples.\n",
    "#INPUT: [(), (), ('',), ('a', 'b'), ('a', 'b', 'c'), ('d')]\n",
    "#OUTPUT: [('',), ('a', 'b'), ('a', 'b', 'c'), 'd']\n",
    "#Solution:\n",
    "input_list = [(), (), ('',), ('a', 'b'), ('a', 'b', 'c'), ('d')]\n",
    "# Use list comprehension to remove empty tuples\n",
    "output_list = [t for t in input_list if t]\n",
    "print(output_list)"
   ]
  },
  {
   "cell_type": "code",
   "execution_count": 58,
   "id": "f1c7d09d",
   "metadata": {},
   "outputs": [
    {
     "name": "stdout",
     "output_type": "stream",
     "text": [
      "[('',), ('a', 'b'), ('a', 'b', 'c'), 'd']\n"
     ]
    }
   ],
   "source": [
    "input_list = [(), (), ('',), ('a', 'b'), ('a', 'b', 'c'), ('d')]\n",
    "v=[]\n",
    "for t in input_list:\n",
    "    if t:\n",
    "        v.append(t)\n",
    "print(v)"
   ]
  },
  {
   "cell_type": "code",
   "execution_count": 59,
   "id": "e63fe144",
   "metadata": {},
   "outputs": [
    {
     "name": "stdout",
     "output_type": "stream",
     "text": [
      "('S', 'h', 'a', 'i', 'l', 'j', 'a')\n"
     ]
    }
   ],
   "source": [
    "#Write a Python program to convert a given string to a tuple.\n",
    "#INPUT: “Shailja”\n",
    "#OUTPUT:(‘’s’,’h,’a’,’i’,’l’,’j’,’a’)\n",
    "#Solution:\n",
    "input_string = \"Shailja\"\n",
    "# Use tuple() constructor to convert the string to a tuple\n",
    "output_tuple = tuple(input_string)\n",
    "print(output_tuple)"
   ]
  },
  {
   "cell_type": "code",
   "execution_count": 1,
   "id": "d5af7ae4",
   "metadata": {},
   "outputs": [
    {
     "name": "stdout",
     "output_type": "stream",
     "text": [
      "(6, 9, 8, 6)\n"
     ]
    }
   ],
   "source": [
    "#Write a Python program to compute the element-wise sum of given tuples(\n",
    "#Interview Question)\n",
    "#INPUT:\n",
    "#(1, 2, 3, 4)\n",
    "#(3, 5, 2, 1)\n",
    "#(2, 2, 3, 1)\n",
    "#OUTPUT:\n",
    "#(6, 9, 8, 6)\n",
    "\n",
    "tuple1 = (1, 2, 3, 4)\n",
    "tuple2 = (3, 5, 2, 1)\n",
    "tuple3 = (2, 2, 3, 1)\n",
    "# Use tuple addition to compute the element-wise sum\n",
    "output_tuple = tuple(map(sum, zip(tuple1, tuple2, tuple3)))\n",
    "print(output_tuple)\n"
   ]
  },
  {
   "cell_type": "code",
   "execution_count": 2,
   "id": "3301142c",
   "metadata": {},
   "outputs": [
    {
     "name": "stdout",
     "output_type": "stream",
     "text": [
      "list of lists is:  [[1, 2], [2, 3], [3, 4]]\n"
     ]
    }
   ],
   "source": [
    "#Q.- Write a Python program to convert a given list of tuples to a list of lists.\n",
    "#INPUT: [(1, 2), (2, 3), (3, 4)]\n",
    "#OUTPUT: [[1, 2], [2, 3], [3, 4]]\n",
    "#Solution:\n",
    "input_list = [(1, 2), (2, 3), (3, 4)]\n",
    "list1=[]\n",
    "for i in input_list:\n",
    "    list1.append(list(i))\n",
    "    \n",
    "print('list of lists is: ',list1)\n",
    "    "
   ]
  },
  {
   "cell_type": "markdown",
   "id": "dfe5208e",
   "metadata": {},
   "source": [
    "# SET"
   ]
  },
  {
   "cell_type": "code",
   "execution_count": 13,
   "id": "98791a55",
   "metadata": {},
   "outputs": [
    {
     "data": {
      "text/plain": [
       "{0, 1, 3, 4, 5}"
      ]
     },
     "execution_count": 13,
     "metadata": {},
     "output_type": "execute_result"
    }
   ],
   "source": [
    "#Write a Python program to remove an item from a set if it is present in the set.\n",
    "#INPUT: 0, 1, 2, 3, 4, 5}\n",
    "#OUTPUT:\n",
    "#Remove 2 from the said set:\n",
    "#{0, 1, 2, 3}\n",
    "#Remove 7 from the said set:\n",
    "#{0, 1, 2, 3}\n",
    "#Solution:\n",
    "\n",
    "inp={0,1,2,3,4,5}\n",
    "inp.discard(2)\n",
    "inp.discard(7)\n",
    "inp\n",
    "\n",
    "# we can also use remove function ,but in case of remove there will be a error due to no existance of 7 in the set,but in case of discard there will be no error \n"
   ]
  },
  {
   "cell_type": "code",
   "execution_count": 15,
   "id": "0c3da34f",
   "metadata": {},
   "outputs": [
    {
     "name": "stdout",
     "output_type": "stream",
     "text": [
      "If x is subset of y: False\n",
      "If y is subset of z: False\n",
      "If z is subset of y: True\n"
     ]
    }
   ],
   "source": [
    "#Q. Write a Python program to check if a set is a subset of another set.\n",
    "#INPUT:\n",
    "#x: {'mango', 'apple'}\n",
    "#y: {'mango', 'orange'}\n",
    "#z: {'mango'}\n",
    "#OUTPUT:\n",
    "#If x is subset of y:False\n",
    "#If y is subset of z:False\n",
    "#If z is subset of y:True\n",
    "\n",
    "x = {'mango', 'apple'}\n",
    "y = {'mango', 'orange'}\n",
    "z = {'mango'}\n",
    "print(\"If x is subset of y:\", x.issubset(y))\n",
    "print(\"If y is subset of z:\", y.issubset(z))\n",
    "print(\"If z is subset of y:\", z.issubset(y))\n"
   ]
  },
  {
   "cell_type": "code",
   "execution_count": 17,
   "id": "8139746d",
   "metadata": {},
   "outputs": [
    {
     "name": "stdout",
     "output_type": "stream",
     "text": [
      "set()\n"
     ]
    }
   ],
   "source": [
    "#Write a Python program to remove all elements from a given set at once.\n",
    "#INPUT: {'Green', 'Black', 'Red', 'White'}\n",
    "#OUTPUT: set()\n",
    "#Solution:\n",
    "input_set = {'Green', 'Black', 'Red', 'White'}\n",
    "input_set.clear()\n",
    "print(input_set)"
   ]
  },
  {
   "cell_type": "code",
   "execution_count": 19,
   "id": "0b353f16",
   "metadata": {},
   "outputs": [
    {
     "name": "stdout",
     "output_type": "stream",
     "text": [
      "False\n"
     ]
    }
   ],
   "source": [
    "#Q. Write a Python program to check if two given sets have no elements in\n",
    "#common.\n",
    "#INPUT:\n",
    "#S1={1, 2, 3, 4}\n",
    "#S2={4, 5, 6, 7}\n",
    "#OUTPUT:\n",
    "#False( as 4 is common)\n",
    " # Output: True (No common elements)\n",
    "# Output: False (Common element: 3)\n",
    "s1={1, 2, 3, 4}\n",
    "s2={4, 5, 6, 7}\n",
    "\n",
    "print(s1.isdisjoint(s2))"
   ]
  },
  {
   "cell_type": "code",
   "execution_count": 31,
   "id": "61492371",
   "metadata": {},
   "outputs": [
    {
     "name": "stdout",
     "output_type": "stream",
     "text": [
      "False\n"
     ]
    }
   ],
   "source": [
    "#Write a Python program to check if a given value(10) is present in a set or not.\n",
    "#INPUT:{1, 3, 5, 7, 9, 11}\n",
    "#OUTPUT: False\n",
    "#Solution:\n",
    "input_set = {1, 3, 5, 7, 9, 11}\n",
    "value_to_check = 10\n",
    "print(value_to_check in input_set)"
   ]
  },
  {
   "cell_type": "code",
   "execution_count": 23,
   "id": "af00275b",
   "metadata": {},
   "outputs": [
    {
     "name": "stdout",
     "output_type": "stream",
     "text": [
      "['Exercises', 'Python', 'Practice', 'Solution']\n"
     ]
    }
   ],
   "source": [
    "# Write a Python program to remove all duplicates from a given list of strings\n",
    "#and return a list of unique strings. Use the Python set data type.\n",
    "#INPUT: ['Python', 'Exercises', 'Practice', 'Solution', 'Exercises']\n",
    "#OUTPUT:['Solution', 'Python', 'Exercises', 'Practice']\n",
    "u= ['Python', 'Exercises', 'Practice', 'Solution', 'Exercises']\n",
    "print(list(set(u)))\n"
   ]
  },
  {
   "cell_type": "markdown",
   "id": "8a62e25d",
   "metadata": {},
   "source": [
    "# DICTIONARY"
   ]
  },
  {
   "cell_type": "code",
   "execution_count": 30,
   "id": "a98724c3",
   "metadata": {},
   "outputs": [
    {
     "name": "stdout",
     "output_type": "stream",
     "text": [
      "{1: 10, 2: 20, 3: 30, 4: 40, 5: 50, 6: 60}\n"
     ]
    }
   ],
   "source": [
    "#Write a Python script to concatenate the following dictionaries to create a new\n",
    "#one.\n",
    "#Input:\n",
    "#dic1= {1:10, 2:20}\n",
    "#dic2= {3:30, 4:40}\n",
    "#dic3={5:50,6:60}\n",
    "#Output: {1: 10, 2: 20, 3: 30, 4: 40, 5: 50, 6: 60}\n",
    "#Solution:\n",
    "dic1 = {1: 10, 2: 20}\n",
    "dic2 = {3: 30, 4: 40}\n",
    "dic3 = {5: 50, 6: 60}\n",
    "\n",
    "output_dict = {}\n",
    "output_dict.update(dic1)\n",
    "output_dict.update(dic2)\n",
    "output_dict.update(dic3)\n",
    "print(output_dict)"
   ]
  },
  {
   "cell_type": "code",
   "execution_count": 39,
   "id": "6c2c3004",
   "metadata": {},
   "outputs": [
    {
     "name": "stdout",
     "output_type": "stream",
     "text": [
      "Key 10 is not present in the dictionary\n"
     ]
    }
   ],
   "source": [
    "#Write a Python script to check whether a given key (10) already exists in a\n",
    "#dictionary.\n",
    "#Input: 1: 10, 2: 20, 3: 30, 4: 40, 5: 50, 6: 60}\n",
    "#Output:” Key 10 is not present in the dictionary”\n",
    "#Solution:\n",
    "input_dict = {1: 10, 2: 20, 3: 30, 4: 40, 5: 50, 6: 60}\n",
    "key_to_check = 10\n",
    "if key_to_check in input_dict:\n",
    "    \n",
    "    print(f\"Key {key_to_check} is present in the dictionary\")\n",
    "else:\n",
    "    print(f\"Key {key_to_check} is not present in the dictionary\")"
   ]
  },
  {
   "cell_type": "code",
   "execution_count": 44,
   "id": "a1d9a9b3",
   "metadata": {},
   "outputs": [
    {
     "name": "stdout",
     "output_type": "stream",
     "text": [
      "{'name': 'John Doe', 'occupation': 'Software Engineer', 'email': 'john@example.com', 'is_employed': True}\n"
     ]
    }
   ],
   "source": [
    "#Write a Python program to remove a key(age) from a dictionary.\n",
    "#Input:\n",
    "#'name': 'John Doe',\n",
    "#'age': 30,\n",
    "#'occupation': 'Software Engineer',\n",
    "#'email': 'john@example.com',\n",
    "#'is_employed': True\n",
    "#}\n",
    "#Output:\n",
    "#'name': 'John Doe',\n",
    "#'occupation': 'Software Engineer',\n",
    "#'email': 'john@example.com',\n",
    "#'is_employed': True\n",
    "#}\n",
    "dict2={\n",
    "'name': 'John Doe',\n",
    "'age': 30,\n",
    "'occupation': 'Software Engineer',\n",
    "'email': 'john@example.com',\n",
    "'is_employed': True\n",
    "}\n",
    "del dict2['age']\n",
    "\n",
    "print(dict2)"
   ]
  },
  {
   "cell_type": "code",
   "execution_count": 53,
   "id": "1ad8dc03",
   "metadata": {},
   "outputs": [
    {
     "name": "stdout",
     "output_type": "stream",
     "text": [
      "After Removing Duplicates : {'a': 1, 'b': 2, 'd': 3, 'f': 4}\n",
      "[1, 2, 3, 4]\n"
     ]
    }
   ],
   "source": [
    "#Write a Python program to remove duplicates from the dictionary(Interview\n",
    "#Question)\n",
    "#Input: {'a': 1, 'b': 2, 'c': 1, 'd': 3, 'e': 2, 'f': 4}\n",
    "#Output: {'a': 1, 'b': 2, 'd': 3, 'f': 4}\n",
    "#Solution:\n",
    "emp_data = {'a': 1, 'b': 2, 'c': 1, 'd': 3, 'e': 2, 'f': 4}\n",
    "temp = []\n",
    "resultant_dictionary = {}\n",
    "for key, val in emp_data.items():\n",
    "    \n",
    "    if val not in temp:\n",
    "        \n",
    "        temp.append(val)\n",
    "        resultant_dictionary[key] = val\n",
    "print (\"After Removing Duplicates : \"+str(resultant_dictionary))\n",
    "#emp_data is a dictionary.\n",
    "#.items() is a method used to access the key-value pairs (items) of the dictionary. It returns a view object that displays a list of a dictionary's key-value pairs as tuples.\n",
    "#for key, val is the loop syntax. It's a destructuring assignment where key represents the key of each item, and val represents the corresponding value.\n",
    "#So, when you run this loop, it iterates over each key-value pair in emp_data, and in each iteration, key takes the key of the current item, and val takes the corresponding value. This allows you to perform operations on both the keys and values within the loop body."
   ]
  },
  {
   "cell_type": "code",
   "execution_count": 57,
   "id": "eae9ed17",
   "metadata": {},
   "outputs": [
    {
     "data": {
      "text/plain": [
       "(5874, 500)"
      ]
     },
     "execution_count": 57,
     "metadata": {},
     "output_type": "execute_result"
    }
   ],
   "source": [
    "#Write a Python program to get the maximum and minimum values of a\n",
    "#dictionary.\n",
    "#Input: {‘u’:1000,’v’:3000,'x':500, 'y':5874, 'z': 560}\n",
    "#Output:\n",
    "#Maximum Value: 5874\n",
    "#Minimum Value: 500\n",
    "\n",
    "dict3={'u':1000,'v':3000,'x':500, 'y':5874, 'z': 560}\n",
    "max(dict3.values()),min(dict3.values())\n"
   ]
  },
  {
   "cell_type": "code",
   "execution_count": 58,
   "id": "785eea20",
   "metadata": {},
   "outputs": [
    {
     "name": "stdout",
     "output_type": "stream",
     "text": [
      "Dictionary is empty\n"
     ]
    }
   ],
   "source": [
    "#Write a Python program to check if a dictionary is empty or not.\n",
    "#Input: my_dict = {}\n",
    "#Output: ”Dictionary is Empty”\n",
    "my_dict = {}\n",
    "if not my_dict:\n",
    "    print(\"Dictionary is empty\")\n",
    "else:\n",
    "    print(\"Dictionary is not empty\")\n"
   ]
  },
  {
   "cell_type": "code",
   "execution_count": 59,
   "id": "ddde429a",
   "metadata": {},
   "outputs": [
    {
     "name": "stdout",
     "output_type": "stream",
     "text": [
      "Dictionary is empty\n"
     ]
    }
   ],
   "source": [
    "#alternate method\n",
    "my_dict = {}\n",
    "if len(my_dict) == 0:\n",
    "    print(\"Dictionary is empty\")\n",
    "else:\n",
    "    print(\"Dictionary is not empty\")\n"
   ]
  },
  {
   "cell_type": "code",
   "execution_count": 60,
   "id": "483a2ef8",
   "metadata": {},
   "outputs": [
    {
     "name": "stdout",
     "output_type": "stream",
     "text": [
      "15\n",
      "25\n",
      "35\n"
     ]
    }
   ],
   "source": [
    "#Write a Python program to create a dictionary of keys x, y, and z where each\n",
    "#key has as value a list from 11-20, 21-30, and 31-40 respectively. Access the fifth\n",
    "#value of each key from the dictionary\n",
    "#Input:\n",
    "#'x': [11, 12, 13, 14, 15, 16, 17, 18, 19],\n",
    "\n",
    "#'y': [21, 22, 23, 24, 25, 26, 27, 28, 29],\n",
    "#'z': [31, 32, 33, 34, 35, 36, 37, 38, 39]}\n",
    "#Output:\n",
    "#15\n",
    "#25\n",
    "#35\n",
    "\n",
    "input_dict = {'x': [11, 12, 13, 14, 15, 16, 17, 18, 19],\n",
    "'y': [21, 22, 23, 24, 25, 26, 27, 28, 29],\n",
    "'z': [31, 32, 33, 34, 35, 36, 37, 38, 39]}\n",
    "# Access the fifth value (index 4) of each key\n",
    "value_x = input_dict['x'][4]\n",
    "value_y = input_dict['y'][4]\n",
    "value_z = input_dict['z'][4]\n",
    "print(value_x)\n",
    "print(value_y)\n",
    "print(value_z)"
   ]
  },
  {
   "cell_type": "code",
   "execution_count": 63,
   "id": "a6aa8018",
   "metadata": {},
   "outputs": [
    {
     "name": "stdout",
     "output_type": "stream",
     "text": [
      "{'c1': 'Red', 'c2': 'Green'}\n"
     ]
    }
   ],
   "source": [
    "#Write a Python program to drop empty items from a given dictionary.\n",
    "#Input: {'c1': 'Red', 'c2': 'Green', 'c3': None}\n",
    "#Output: {'c1': 'Red', 'c2': 'Green'}\n",
    "#Solution:\n",
    "input_dict = {'c1': 'Red', 'c2': 'Green', 'c3': None}\n",
    "output_dict={key:value for key,value in input_dict.items() if value is not None}\n",
    "print(output_dict)\n"
   ]
  },
  {
   "cell_type": "code",
   "execution_count": 64,
   "id": "c3844220",
   "metadata": {},
   "outputs": [
    {
     "name": "stdout",
     "output_type": "stream",
     "text": [
      "{'Cierra Vega': 175, 'Alden Cantrell': 180, 'Pierre Cox': 190}\n"
     ]
    }
   ],
   "source": [
    "#Write a Python program to filter a dictionary based on values>170\n",
    "#Input : {'Cierra Vega': 175, 'Alden Cantrell': 180, 'Kierra Gentry': 165, 'Pierre Cox':\n",
    "#190}\n",
    "#Output : {'Cierra Vega': 175, 'Alden Cantrell': 180, 'Pierre Cox': 190}\n",
    "\n",
    "input_dict = {'Cierra Vega': 175, 'Alden Cantrell': 180, 'Kierra Gentry': 165, 'Pierre Cox':190}\n",
    "output_list={key:value  for key,value in input_dict.items()  if value>170}\n",
    "print(output_list)"
   ]
  },
  {
   "cell_type": "code",
   "execution_count": 69,
   "id": "e267130d",
   "metadata": {},
   "outputs": [
    {
     "name": "stdout",
     "output_type": "stream",
     "text": [
      "All Values are 12\n"
     ]
    }
   ],
   "source": [
    "#Write a Python program to verify that all values in a dictionary are the\n",
    "#same(Interview Question)\n",
    "#Input: {'Cierra Vega': 12, 'Alden Cantrell': 12, 'Kierra Gentry': 12, 'Pierre Cox': 12}\n",
    "#Output: “ All values are 12”\n",
    "input3={'Cierra Vega': 12, 'Alden Cantrell': 12, 'Kierra Gentry': 12, 'Pierre Cox': 12}\n",
    "if len(set(input3.values()))==1:\n",
    "    print('All Values are',list(set(input3.values()))[0])\n",
    "else:\n",
    "    print('all values are not same')"
   ]
  },
  {
   "cell_type": "code",
   "execution_count": 4,
   "id": "c2525cc1",
   "metadata": {},
   "outputs": [
    {
     "name": "stdout",
     "output_type": "stream",
     "text": [
      "[{'x': 10, 'y': 20, 'z': 30}, {'p': 40, 'q': 50, 'r': 60}]\n",
      "[{'x': 10.0, 'y': 20.0, 'z': 30.0}, {'p': 40.0, 'q': 50.0, 'r': 60.0}]\n"
     ]
    }
   ],
   "source": [
    "#Write a Python program to convert string values of a given dictionary into\n",
    "#integer/float datatypes.\n",
    "#INPUT:\n",
    "#[{'x': '10', 'y': '20', 'z': '30'}, {'p': '40', 'q': '50', 'r': '60'}]\n",
    "#OUTPUT:\n",
    "#String values of a given dictionary, into integer types:\n",
    "#[{'x': 10, 'y': 20, 'z': 30}, {'p': 40, 'q': 50, 'r': 60}]\n",
    "#String values of a given dictionary, into float types:\n",
    "#[{'x': 10.12, 'y': 20.23, 'z': 30.0}, {'p': 40.0, 'q': 50.19, 'r': 60.99}]\n",
    "#Solution:\n",
    "input_list = [{'x': '10', 'y': '20', 'z': '30'}, {'p': '40', 'q': '50', 'r': '60'}]\n",
    "output = []\n",
    "output1 = []\n",
    "for i in input_list:\n",
    "    temp={key:int(value) for key,value in i.items()}\n",
    "    temp1={key:float(value) for key,value in i.items()}\n",
    "    output.append(temp)\n",
    "    output1.append(temp1)\n",
    "    \n",
    "print(output)\n",
    "print(output1)"
   ]
  },
  {
   "cell_type": "code",
   "execution_count": 6,
   "id": "6421078e",
   "metadata": {},
   "outputs": [
    {
     "name": "stdout",
     "output_type": "stream",
     "text": [
      "{'V': [4, 6, 10], 'VI': [4, 12], 'VII': [8]}\n"
     ]
    }
   ],
   "source": [
    "#Write a Python program to filter even numbers from a dictionary of values.\n",
    "#INPUT: {'V': [1, 4, 6, 10], 'VI': [1, 4, 12], 'VII': [1, 3, 8]}\n",
    "#OUTPUT:{'V': [4, 6, 10], 'VI': [4, 12], 'VII': [8]}\n",
    "#using dictionary comprehension method\n",
    "\n",
    "input_dict2={'V': [1, 4, 6, 10], 'VI': [1, 4, 12], 'VII': [1, 3, 8]}\n",
    "\n",
    "output_dict_even_numbers={key:[x for x in value if x%2==0] for key,value in input_dict2.items()}\n",
    "print(output_dict_even_numbers)"
   ]
  },
  {
   "cell_type": "markdown",
   "id": "e3067075",
   "metadata": {},
   "source": [
    "# STRING\n"
   ]
  },
  {
   "cell_type": "code",
   "execution_count": 15,
   "id": "82f87fc6",
   "metadata": {},
   "outputs": [
    {
     "name": "stdout",
     "output_type": "stream",
     "text": [
      "{'o': 3, 'g': 2, 'e': 1, 'l': 1, 'c': 1, 'm': 1, '.': 1}\n"
     ]
    }
   ],
   "source": [
    "#Write a Python program to count the number of characters (character\n",
    "#frequency) in a string.\n",
    "#INPUT: google.com\n",
    "#OUTPUT: {'g': 2, 'o': 3, 'l': 1, 'e': 1, '.': 1, 'c': 1, 'm': 1}\n",
    "st1='google.com'\n",
    "output_st={char:st1.count(char) for char in set(st1)}\n",
    "print(output_st)"
   ]
  },
  {
   "cell_type": "code",
   "execution_count": 17,
   "id": "1c009636",
   "metadata": {},
   "outputs": [
    {
     "name": "stdout",
     "output_type": "stream",
     "text": [
      "w3ce\n"
     ]
    }
   ],
   "source": [
    "#Write a Python program to get a string made of the first 2 and last 2\n",
    "#characters of a given string. If the string length is less than 2, return the empty\n",
    "#string instead.\n",
    "#INPUT: 'w3resource'\n",
    "#OUTPUT : 'w3ce'\n",
    "#INPUT: 'w3'\n",
    "#OUTPUT: 'w3w3'\n",
    "#Solution:\n",
    "input_string = 'w3resource'\n",
    "# Use slicing to get the first 2 and last 2 characters\n",
    "output_string = input_string[:2] + input_string[-2:] if len(input_string) >= 2 else ''\n",
    "print(output_string)"
   ]
  },
  {
   "cell_type": "code",
   "execution_count": 18,
   "id": "8c8f7c2e",
   "metadata": {},
   "outputs": [
    {
     "name": "stdout",
     "output_type": "stream",
     "text": [
      "w3ce\n"
     ]
    }
   ],
   "source": [
    "#alternate method\n",
    "input_string = 'w3resource'\n",
    "if len(input_string)>=2:\n",
    "    output=input_string[:2]+input_string[-2:]\n",
    "else:\n",
    "    output=''\n",
    "    \n",
    "print(output)\n",
    "    "
   ]
  },
  {
   "cell_type": "code",
   "execution_count": 19,
   "id": "a6a7cd5c",
   "metadata": {},
   "outputs": [
    {
     "name": "stdout",
     "output_type": "stream",
     "text": [
      "Pytho\n"
     ]
    }
   ],
   "source": [
    "#Write a Python program to remove the 5\n",
    "#th\n",
    "#index character from a nonempty\n",
    "#string.\n",
    "#INPUT:’Python’\n",
    "#OUTPUT: Pytho\n",
    "#Solution:\n",
    "input_string = 'Python'\n",
    "# Use slicing to remove the 5th index character\n",
    "output_string = input_string[:5] + input_string[6:]\n",
    "print(output_string)"
   ]
  },
  {
   "cell_type": "code",
   "execution_count": 31,
   "id": "8e93d784",
   "metadata": {},
   "outputs": [
    {
     "name": "stdout",
     "output_type": "stream",
     "text": [
      "{'the': 2, 'fox': 1, 'brown': 1, 'over': 1, 'lazy': 1, 'quick': 1, 'jumps': 1, 'dog.': 1}\n"
     ]
    }
   ],
   "source": [
    "#Write a Python program to count the occurrences of each word in a given\n",
    "#sentence.\n",
    "#INPUT: ‘the quick brown fox jumps over the lazy dog.’\n",
    "#OUTPUT: {'the': 2, 'jumps': 1, 'brown': 1, 'lazy': 1, 'fox': 1, 'over': 1, 'quick': 1,\n",
    "#'dog.': 1}\n",
    "#Solution:\n",
    "input_sentence = 'the quick brown fox jumps over the lazy dog.'\n",
    "input_sent=input_sentence.split()\n",
    "output_count={word:input_sent.count(word) for word in set(input_sent)}\n",
    "print(output_count)"
   ]
  },
  {
   "cell_type": "code",
   "execution_count": 25,
   "id": "9e6814aa",
   "metadata": {},
   "outputs": [
    {
     "data": {
      "text/plain": [
       "{'.', 'c', 'e', 'g', 'l', 'm', 'o'}"
      ]
     },
     "execution_count": 25,
     "metadata": {},
     "output_type": "execute_result"
    }
   ],
   "source": [
    "## code to clear confusion\n",
    "str2='google.com'\n",
    "ouput=set('google.com')\n",
    "ouput"
   ]
  },
  {
   "cell_type": "code",
   "execution_count": 27,
   "id": "fd363cfb",
   "metadata": {},
   "outputs": [
    {
     "data": {
      "text/plain": [
       "['the', 'quick', 'brown', 'fox', 'jumps', 'over', 'the', 'lazy', 'dog.']"
      ]
     },
     "execution_count": 27,
     "metadata": {},
     "output_type": "execute_result"
    }
   ],
   "source": [
    "st3='the quick brown fox jumps over the lazy dog.'\n",
    "ou=st3.split()\n",
    "ou"
   ]
  },
  {
   "cell_type": "code",
   "execution_count": 28,
   "id": "0745dae9",
   "metadata": {},
   "outputs": [
    {
     "data": {
      "text/plain": [
       "{'brown', 'dog.', 'fox', 'jumps', 'lazy', 'over', 'quick', 'the'}"
      ]
     },
     "execution_count": 28,
     "metadata": {},
     "output_type": "execute_result"
    }
   ],
   "source": [
    "set(ou)"
   ]
  },
  {
   "cell_type": "code",
   "execution_count": 37,
   "id": "edd4064b",
   "metadata": {},
   "outputs": [
    {
     "name": "stdout",
     "output_type": "stream",
     "text": [
      "[[Python]]\n"
     ]
    }
   ],
   "source": [
    "#Write a Python function to insert a string in the middle of a string.\n",
    "#INPUT: '[[]]', 'Python'\n",
    "#OUTPUT: [[Python]]\n",
    "main='[[]]'\n",
    "middle='Python'\n",
    "middle_value=len(main)//2\n",
    "\n",
    "output=main[:middle_value] + middle + main[middle_value:]\n",
    "print(output)"
   ]
  },
  {
   "cell_type": "code",
   "execution_count": 38,
   "id": "fd149f3d",
   "metadata": {},
   "outputs": [
    {
     "name": "stdout",
     "output_type": "stream",
     "text": [
      "python\n"
     ]
    }
   ],
   "source": [
    "#Write a Python function to reverse a string if its length is a multiple of 4.\n",
    "#INPUT:’python’\n",
    "#OUTPUT:’python’\n",
    "#Solution:\n",
    "input_string = 'python'\n",
    "output_string = input_string[::-1] if len(input_string) % 4 == 0 else input_string\n",
    "print(output_string)"
   ]
  },
  {
   "cell_type": "code",
   "execution_count": 39,
   "id": "7099a5aa",
   "metadata": {},
   "outputs": [
    {
     "name": "stdout",
     "output_type": "stream",
     "text": [
      "True\n"
     ]
    }
   ],
   "source": [
    "#Write a Python program to check whether a string starts with specified\n",
    "#characters (grow)\n",
    "#INPUT:” growdataskills”\n",
    "#OUTPUT: TRUE\n",
    "#Solution:\n",
    "input_string = \"growdataskills\"\n",
    "specified_characters = \"grow\"\n",
    "output_bool = input_string.startswith(specified_characters)\n",
    "print(output_bool)"
   ]
  },
  {
   "cell_type": "code",
   "execution_count": 3,
   "id": "da8d2fd3",
   "metadata": {},
   "outputs": [
    {
     "name": "stdout",
     "output_type": "stream",
     "text": [
      "dog. lazy the over jumps fox brown quick The\n"
     ]
    }
   ],
   "source": [
    "#Write a Python program to reverse words in a string.\n",
    "#INPUT: \"The quick brown fox jumps over the lazy dog.\"\n",
    "#OUPUT: “dog. lazy the over jumps fox brown quick The”\n",
    "#Solution:\n",
    "\n",
    "input_string = \"The quick brown fox jumps over the lazy dog.\"\n",
    "words = input_string.split()\n",
    "output_string=' '.join(reversed(words))\n",
    "print(output_string)"
   ]
  },
  {
   "cell_type": "code",
   "execution_count": 4,
   "id": "9ba2a4eb",
   "metadata": {},
   "outputs": [
    {
     "name": "stdout",
     "output_type": "stream",
     "text": [
      "False\n"
     ]
    }
   ],
   "source": [
    "#Write a Python program to check whether a string contains all letters of the\n",
    "#alphabet(Interview Question).\n",
    "#INPUT: 'The quick brown fox jumps over the lazy cat\n",
    "#OUTPUT:FALSE\n",
    "#Solution:\n",
    "input_string = 'The quick brown fox jumps over the lazy cat'\n",
    "alphabet = set('abcdefghijklmnopqrstuvwxyz')\n",
    "output_bool = set(input_string.lower()) >= alphabet\n",
    "print(output_bool)"
   ]
  },
  {
   "cell_type": "code",
   "execution_count": 6,
   "id": "9e62ef5a",
   "metadata": {},
   "outputs": [
    {
     "name": "stdout",
     "output_type": "stream",
     "text": [
      "5\n",
      "['e', 'e', 'o', 'e', 'e']\n"
     ]
    }
   ],
   "source": [
    "#Write a Python program to count and display vowels in text.\n",
    "#INPUT: resource\n",
    "#OUTPUT: 4 -> ['e', 'o', 'u', 'e']\n",
    "\n",
    "# Python code to count and display number of vowels\n",
    "# Simply using for and comparing it with a \n",
    "# string containing all vowels\n",
    "def Check_Vow(string, vowels):\n",
    "    final = [each for each in string if each in vowels]\n",
    "    print(len(final))\n",
    "    print(final)\n",
    "     \n",
    "# Driver Code\n",
    "string = \"Geeks for Geeks\"\n",
    "vowels = \"AaEeIiOoUu\"\n",
    "Check_Vow(string, vowels)\n"
   ]
  },
  {
   "cell_type": "code",
   "execution_count": null,
   "id": "74eb8c4c",
   "metadata": {},
   "outputs": [],
   "source": []
  },
  {
   "cell_type": "code",
   "execution_count": null,
   "id": "16614e2e",
   "metadata": {},
   "outputs": [],
   "source": []
  },
  {
   "cell_type": "code",
   "execution_count": null,
   "id": "e6aae77b",
   "metadata": {},
   "outputs": [],
   "source": []
  },
  {
   "cell_type": "code",
   "execution_count": null,
   "id": "d271aef6",
   "metadata": {},
   "outputs": [],
   "source": []
  },
  {
   "cell_type": "code",
   "execution_count": null,
   "id": "0d663577",
   "metadata": {},
   "outputs": [],
   "source": []
  },
  {
   "cell_type": "code",
   "execution_count": null,
   "id": "36ebaa9e",
   "metadata": {},
   "outputs": [],
   "source": []
  },
  {
   "cell_type": "code",
   "execution_count": null,
   "id": "90b6eae8",
   "metadata": {},
   "outputs": [],
   "source": []
  },
  {
   "cell_type": "code",
   "execution_count": null,
   "id": "2878e6ce",
   "metadata": {},
   "outputs": [],
   "source": []
  },
  {
   "cell_type": "code",
   "execution_count": null,
   "id": "f379c755",
   "metadata": {},
   "outputs": [],
   "source": []
  },
  {
   "cell_type": "code",
   "execution_count": null,
   "id": "c0b768a4",
   "metadata": {},
   "outputs": [],
   "source": []
  },
  {
   "cell_type": "code",
   "execution_count": null,
   "id": "d02a9248",
   "metadata": {},
   "outputs": [],
   "source": []
  },
  {
   "cell_type": "code",
   "execution_count": null,
   "id": "5d400d3e",
   "metadata": {},
   "outputs": [],
   "source": []
  },
  {
   "cell_type": "code",
   "execution_count": null,
   "id": "583477b5",
   "metadata": {},
   "outputs": [],
   "source": []
  },
  {
   "cell_type": "code",
   "execution_count": null,
   "id": "72abb347",
   "metadata": {},
   "outputs": [],
   "source": []
  },
  {
   "cell_type": "code",
   "execution_count": null,
   "id": "4f635767",
   "metadata": {},
   "outputs": [],
   "source": []
  },
  {
   "cell_type": "code",
   "execution_count": null,
   "id": "b61da466",
   "metadata": {},
   "outputs": [],
   "source": []
  },
  {
   "cell_type": "code",
   "execution_count": null,
   "id": "745c1337",
   "metadata": {},
   "outputs": [],
   "source": []
  },
  {
   "cell_type": "code",
   "execution_count": null,
   "id": "a9b1c9ce",
   "metadata": {},
   "outputs": [],
   "source": []
  },
  {
   "cell_type": "code",
   "execution_count": null,
   "id": "3242d564",
   "metadata": {},
   "outputs": [],
   "source": []
  },
  {
   "cell_type": "code",
   "execution_count": null,
   "id": "64c888fe",
   "metadata": {},
   "outputs": [],
   "source": []
  },
  {
   "cell_type": "code",
   "execution_count": null,
   "id": "c9e57156",
   "metadata": {},
   "outputs": [],
   "source": []
  },
  {
   "cell_type": "code",
   "execution_count": null,
   "id": "0579eafc",
   "metadata": {},
   "outputs": [],
   "source": []
  },
  {
   "cell_type": "code",
   "execution_count": null,
   "id": "1333c6be",
   "metadata": {},
   "outputs": [],
   "source": []
  },
  {
   "cell_type": "code",
   "execution_count": null,
   "id": "22dafdc7",
   "metadata": {},
   "outputs": [],
   "source": []
  },
  {
   "cell_type": "code",
   "execution_count": null,
   "id": "a8809358",
   "metadata": {},
   "outputs": [],
   "source": []
  },
  {
   "cell_type": "code",
   "execution_count": null,
   "id": "8474afa4",
   "metadata": {},
   "outputs": [],
   "source": []
  },
  {
   "cell_type": "code",
   "execution_count": null,
   "id": "9e78cbd5",
   "metadata": {},
   "outputs": [],
   "source": []
  },
  {
   "cell_type": "code",
   "execution_count": null,
   "id": "0c0594f9",
   "metadata": {},
   "outputs": [],
   "source": []
  },
  {
   "cell_type": "code",
   "execution_count": null,
   "id": "bd0ff620",
   "metadata": {},
   "outputs": [],
   "source": []
  },
  {
   "cell_type": "code",
   "execution_count": null,
   "id": "80bcae59",
   "metadata": {},
   "outputs": [],
   "source": []
  },
  {
   "cell_type": "code",
   "execution_count": null,
   "id": "583c6523",
   "metadata": {},
   "outputs": [],
   "source": []
  },
  {
   "cell_type": "code",
   "execution_count": null,
   "id": "d30fc037",
   "metadata": {},
   "outputs": [],
   "source": []
  },
  {
   "cell_type": "code",
   "execution_count": null,
   "id": "55576184",
   "metadata": {},
   "outputs": [],
   "source": []
  },
  {
   "cell_type": "code",
   "execution_count": null,
   "id": "0b4176cb",
   "metadata": {},
   "outputs": [],
   "source": []
  },
  {
   "cell_type": "code",
   "execution_count": null,
   "id": "827ebaf4",
   "metadata": {},
   "outputs": [],
   "source": []
  },
  {
   "cell_type": "code",
   "execution_count": null,
   "id": "31e73c12",
   "metadata": {},
   "outputs": [],
   "source": []
  },
  {
   "cell_type": "code",
   "execution_count": null,
   "id": "b0599ef0",
   "metadata": {},
   "outputs": [],
   "source": []
  },
  {
   "cell_type": "code",
   "execution_count": null,
   "id": "7c52b90a",
   "metadata": {},
   "outputs": [],
   "source": []
  },
  {
   "cell_type": "code",
   "execution_count": null,
   "id": "d104f01f",
   "metadata": {},
   "outputs": [],
   "source": []
  },
  {
   "cell_type": "code",
   "execution_count": null,
   "id": "66d67ef5",
   "metadata": {},
   "outputs": [],
   "source": []
  },
  {
   "cell_type": "code",
   "execution_count": null,
   "id": "a7e9a40f",
   "metadata": {},
   "outputs": [],
   "source": []
  },
  {
   "cell_type": "code",
   "execution_count": null,
   "id": "3389bc0e",
   "metadata": {},
   "outputs": [],
   "source": []
  },
  {
   "cell_type": "code",
   "execution_count": null,
   "id": "fe1a045f",
   "metadata": {},
   "outputs": [],
   "source": []
  },
  {
   "cell_type": "code",
   "execution_count": null,
   "id": "71491fea",
   "metadata": {},
   "outputs": [],
   "source": []
  },
  {
   "cell_type": "code",
   "execution_count": null,
   "id": "5eceba4a",
   "metadata": {},
   "outputs": [],
   "source": []
  },
  {
   "cell_type": "code",
   "execution_count": null,
   "id": "5ed20c08",
   "metadata": {},
   "outputs": [],
   "source": []
  },
  {
   "cell_type": "code",
   "execution_count": null,
   "id": "35c183ad",
   "metadata": {},
   "outputs": [],
   "source": []
  },
  {
   "cell_type": "code",
   "execution_count": null,
   "id": "4dd18bfe",
   "metadata": {},
   "outputs": [],
   "source": []
  },
  {
   "cell_type": "code",
   "execution_count": null,
   "id": "c77459e8",
   "metadata": {},
   "outputs": [],
   "source": []
  },
  {
   "cell_type": "code",
   "execution_count": null,
   "id": "4ae84905",
   "metadata": {},
   "outputs": [],
   "source": []
  },
  {
   "cell_type": "code",
   "execution_count": null,
   "id": "dbdb3a20",
   "metadata": {},
   "outputs": [],
   "source": []
  },
  {
   "cell_type": "code",
   "execution_count": null,
   "id": "773fbf60",
   "metadata": {},
   "outputs": [],
   "source": []
  },
  {
   "cell_type": "code",
   "execution_count": null,
   "id": "3b00c315",
   "metadata": {},
   "outputs": [],
   "source": []
  },
  {
   "cell_type": "code",
   "execution_count": null,
   "id": "a6855656",
   "metadata": {},
   "outputs": [],
   "source": []
  }
 ],
 "metadata": {
  "kernelspec": {
   "display_name": "Python 3 (ipykernel)",
   "language": "python",
   "name": "python3"
  },
  "language_info": {
   "codemirror_mode": {
    "name": "ipython",
    "version": 3
   },
   "file_extension": ".py",
   "mimetype": "text/x-python",
   "name": "python",
   "nbconvert_exporter": "python",
   "pygments_lexer": "ipython3",
   "version": "3.11.3"
  }
 },
 "nbformat": 4,
 "nbformat_minor": 5
}
